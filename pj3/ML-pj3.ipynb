{
 "cells": [
  {
   "cell_type": "code",
   "execution_count": 16,
   "metadata": {
    "collapsed": false
   },
   "outputs": [],
   "source": [
    "import pandas as pd\n",
    "from sklearn.cross_validation import cross_val_score, KFold, StratifiedKFold, cross_val_predict\n",
    "from sklearn.metrics import confusion_matrix\n",
    "from scipy.stats import sem\n",
    "import math\n",
    "import numpy as np"
   ]
  },
  {
   "cell_type": "code",
   "execution_count": 22,
   "metadata": {
    "collapsed": false
   },
   "outputs": [],
   "source": [
    "def eval_clf(clf, X, y, K=3, return_res=False):\n",
    "    ret = {}\n",
    "    #cvK = KFold( X.shape[0], K, shuffle=True, random_state = 1 )\n",
    "    cvK = StratifiedKFold( y, n_folds = K, shuffle=True, random_state = 1 )\n",
    "    scores = cross_val_score(clf, X, y, cv = cvK)\n",
    "    print scores\n",
    "    print \"CV score: %.4f +/- %.4f\" % (np.mean(scores), sem(scores))\n",
    "    print 'Confusion matrix:'\n",
    "    y_pred = cross_val_predict(clf, X, y, cv=cvK)\n",
    "    labels = np.unique( np.append(y,y_pred) )\n",
    "    confmat = confusion_matrix(y, y_pred, labels=labels)\n",
    "    #print confmat \n",
    "    ret['confmat'] = confmat;\n",
    "    avg_precision = confmat.diagonal().sum()*1./confmat.sum()\n",
    "    precision = {}\n",
    "    recall = {}\n",
    "    print '%-10s%s%10s' %( 'predicted→' ,''.join('%10s'%str(l) for l in labels), 'recall')\n",
    "    print 'actual↓'\n",
    "    for i, label in enumerate(labels):\n",
    "        precision[label] = confmat[i,i]*1./confmat[:,i].sum()\n",
    "        recall[label] = confmat[i,i]*1./confmat[i,:].sum()\n",
    "        print '%-10s%s%10s' %(label, ''.join( '%10s'%str(cij) for cij in confmat[i,:] ) ,str(round(recall[label],4)))\n",
    "    print '%-10s%s%10s'% ( 'precision',''.join('%10s'%str(round(precision[l],4)) for l in labels),  '[%.4f]'%avg_precision)\n",
    "    ret['recall'] = recall;\n",
    "    ret['precision'] = precision\n",
    "    ret['avg_precision'] = avg_precision\n",
    "    ret['label'] = label\n",
    "    if len(labels)==2:\n",
    "        tp,tn = recall[labels[0]], recall[labels[1]]\n",
    "        fp,fn = 1-precision[labels[0]], 1-precision[labels[1]]\n",
    "        mcc = (tp*tn-fp*fn)/math.sqrt( (tp+fp)*(tp+fn)*(tn+fp)*(tn+fn) )\n",
    "        print 'MCC: %.4f' % mcc\n",
    "        ret['mcc'] = mcc\n",
    "    if return_res: return ret"
   ]
  },
  {
   "cell_type": "markdown",
   "metadata": {},
   "source": [
    "# Reading data"
   ]
  },
  {
   "cell_type": "code",
   "execution_count": 2,
   "metadata": {
    "collapsed": false
   },
   "outputs": [],
   "source": [
    "colnames = ['id'] + map(lambda x:'PHOG%d'%x, range(1,681) ) + map(lambda x:'1Dsig%d'%x, range(1,17) ) \n",
    "X = pd.read_csv(\"train.csv\", names = colnames + ['cls'])\n",
    "Xtest = pd.read_csv(\"test_validate.csv\", names = colnames)\n",
    "del X['id']\n",
    "test_ids = Xtest['id']\n",
    "del Xtest['id']\n",
    "y = X['cls']\n",
    "del X['cls']"
   ]
  },
  {
   "cell_type": "code",
   "execution_count": 3,
   "metadata": {
    "collapsed": false,
    "scrolled": true
   },
   "outputs": [
    {
     "data": {
      "text/html": [
       "<div style=\"max-height:1000px;max-width:1500px;overflow:auto;\">\n",
       "<table border=\"1\" class=\"dataframe\">\n",
       "  <thead>\n",
       "    <tr style=\"text-align: right;\">\n",
       "      <th></th>\n",
       "      <th>PHOG1</th>\n",
       "      <th>PHOG2</th>\n",
       "      <th>PHOG3</th>\n",
       "      <th>PHOG4</th>\n",
       "      <th>PHOG5</th>\n",
       "      <th>PHOG6</th>\n",
       "      <th>PHOG7</th>\n",
       "      <th>PHOG8</th>\n",
       "      <th>PHOG9</th>\n",
       "      <th>PHOG10</th>\n",
       "      <th>...</th>\n",
       "      <th>1Dsig7</th>\n",
       "      <th>1Dsig8</th>\n",
       "      <th>1Dsig9</th>\n",
       "      <th>1Dsig10</th>\n",
       "      <th>1Dsig11</th>\n",
       "      <th>1Dsig12</th>\n",
       "      <th>1Dsig13</th>\n",
       "      <th>1Dsig14</th>\n",
       "      <th>1Dsig15</th>\n",
       "      <th>1Dsig16</th>\n",
       "    </tr>\n",
       "  </thead>\n",
       "  <tbody>\n",
       "    <tr>\n",
       "      <th>0</th>\n",
       "      <td> 0.022262</td>\n",
       "      <td> 0.022726</td>\n",
       "      <td> 0.036360</td>\n",
       "      <td> 0.044410</td>\n",
       "      <td> 0.023830</td>\n",
       "      <td> 0.024371</td>\n",
       "      <td> 0.047929</td>\n",
       "      <td> 0.038420</td>\n",
       "      <td> 0.009257</td>\n",
       "      <td> 0.005418</td>\n",
       "      <td>...</td>\n",
       "      <td> 0.100780</td>\n",
       "      <td> 0.069767</td>\n",
       "      <td> 0.046512</td>\n",
       "      <td> 0.054264</td>\n",
       "      <td> 0.054264</td>\n",
       "      <td> 0.054264</td>\n",
       "      <td> 0.077519</td>\n",
       "      <td> 0.069767</td>\n",
       "      <td> 0.069767</td>\n",
       "      <td> 0.054264</td>\n",
       "    </tr>\n",
       "    <tr>\n",
       "      <th>1</th>\n",
       "      <td> 0.012610</td>\n",
       "      <td> 0.012450</td>\n",
       "      <td> 0.071335</td>\n",
       "      <td> 0.037531</td>\n",
       "      <td> 0.007311</td>\n",
       "      <td> 0.009596</td>\n",
       "      <td> 0.066724</td>\n",
       "      <td> 0.043898</td>\n",
       "      <td> 0.005685</td>\n",
       "      <td> 0.003667</td>\n",
       "      <td>...</td>\n",
       "      <td> 0.065041</td>\n",
       "      <td> 0.065041</td>\n",
       "      <td> 0.065041</td>\n",
       "      <td> 0.056911</td>\n",
       "      <td> 0.073171</td>\n",
       "      <td> 0.065041</td>\n",
       "      <td> 0.065041</td>\n",
       "      <td> 0.048780</td>\n",
       "      <td> 0.065041</td>\n",
       "      <td> 0.056911</td>\n",
       "    </tr>\n",
       "    <tr>\n",
       "      <th>2</th>\n",
       "      <td> 0.025992</td>\n",
       "      <td> 0.039643</td>\n",
       "      <td> 0.038228</td>\n",
       "      <td> 0.031641</td>\n",
       "      <td> 0.021685</td>\n",
       "      <td> 0.028254</td>\n",
       "      <td> 0.039459</td>\n",
       "      <td> 0.036250</td>\n",
       "      <td> 0.008339</td>\n",
       "      <td> 0.009046</td>\n",
       "      <td>...</td>\n",
       "      <td> 0.064220</td>\n",
       "      <td> 0.055046</td>\n",
       "      <td> 0.064220</td>\n",
       "      <td> 0.064220</td>\n",
       "      <td> 0.073394</td>\n",
       "      <td> 0.055046</td>\n",
       "      <td> 0.045872</td>\n",
       "      <td> 0.055046</td>\n",
       "      <td> 0.073394</td>\n",
       "      <td> 0.064220</td>\n",
       "    </tr>\n",
       "    <tr>\n",
       "      <th>3</th>\n",
       "      <td> 0.032523</td>\n",
       "      <td> 0.032168</td>\n",
       "      <td> 0.035243</td>\n",
       "      <td> 0.030806</td>\n",
       "      <td> 0.031936</td>\n",
       "      <td> 0.031387</td>\n",
       "      <td> 0.037663</td>\n",
       "      <td> 0.024821</td>\n",
       "      <td> 0.009769</td>\n",
       "      <td> 0.011665</td>\n",
       "      <td>...</td>\n",
       "      <td> 0.076923</td>\n",
       "      <td> 0.042735</td>\n",
       "      <td> 0.051282</td>\n",
       "      <td> 0.076923</td>\n",
       "      <td> 0.068376</td>\n",
       "      <td> 0.059829</td>\n",
       "      <td> 0.059829</td>\n",
       "      <td> 0.076923</td>\n",
       "      <td> 0.042735</td>\n",
       "      <td> 0.059829</td>\n",
       "    </tr>\n",
       "    <tr>\n",
       "      <th>4</th>\n",
       "      <td> 0.028967</td>\n",
       "      <td> 0.026514</td>\n",
       "      <td> 0.027574</td>\n",
       "      <td> 0.041115</td>\n",
       "      <td> 0.033244</td>\n",
       "      <td> 0.031683</td>\n",
       "      <td> 0.029524</td>\n",
       "      <td> 0.039006</td>\n",
       "      <td> 0.010779</td>\n",
       "      <td> 0.004814</td>\n",
       "      <td>...</td>\n",
       "      <td> 0.055556</td>\n",
       "      <td> 0.047619</td>\n",
       "      <td> 0.071429</td>\n",
       "      <td> 0.087302</td>\n",
       "      <td> 0.031746</td>\n",
       "      <td> 0.071429</td>\n",
       "      <td> 0.063492</td>\n",
       "      <td> 0.079365</td>\n",
       "      <td> 0.063492</td>\n",
       "      <td> 0.047619</td>\n",
       "    </tr>\n",
       "  </tbody>\n",
       "</table>\n",
       "<p>5 rows × 696 columns</p>\n",
       "</div>"
      ],
      "text/plain": [
       "      PHOG1     PHOG2     PHOG3     PHOG4     PHOG5     PHOG6     PHOG7  \\\n",
       "0  0.022262  0.022726  0.036360  0.044410  0.023830  0.024371  0.047929   \n",
       "1  0.012610  0.012450  0.071335  0.037531  0.007311  0.009596  0.066724   \n",
       "2  0.025992  0.039643  0.038228  0.031641  0.021685  0.028254  0.039459   \n",
       "3  0.032523  0.032168  0.035243  0.030806  0.031936  0.031387  0.037663   \n",
       "4  0.028967  0.026514  0.027574  0.041115  0.033244  0.031683  0.029524   \n",
       "\n",
       "      PHOG8     PHOG9    PHOG10    ...       1Dsig7    1Dsig8    1Dsig9  \\\n",
       "0  0.038420  0.009257  0.005418    ...     0.100780  0.069767  0.046512   \n",
       "1  0.043898  0.005685  0.003667    ...     0.065041  0.065041  0.065041   \n",
       "2  0.036250  0.008339  0.009046    ...     0.064220  0.055046  0.064220   \n",
       "3  0.024821  0.009769  0.011665    ...     0.076923  0.042735  0.051282   \n",
       "4  0.039006  0.010779  0.004814    ...     0.055556  0.047619  0.071429   \n",
       "\n",
       "    1Dsig10   1Dsig11   1Dsig12   1Dsig13   1Dsig14   1Dsig15   1Dsig16  \n",
       "0  0.054264  0.054264  0.054264  0.077519  0.069767  0.069767  0.054264  \n",
       "1  0.056911  0.073171  0.065041  0.065041  0.048780  0.065041  0.056911  \n",
       "2  0.064220  0.073394  0.055046  0.045872  0.055046  0.073394  0.064220  \n",
       "3  0.076923  0.068376  0.059829  0.059829  0.076923  0.042735  0.059829  \n",
       "4  0.087302  0.031746  0.071429  0.063492  0.079365  0.063492  0.047619  \n",
       "\n",
       "[5 rows x 696 columns]"
      ]
     },
     "execution_count": 3,
     "metadata": {},
     "output_type": "execute_result"
    }
   ],
   "source": [
    "X.head()"
   ]
  },
  {
   "cell_type": "code",
   "execution_count": 4,
   "metadata": {
    "collapsed": false
   },
   "outputs": [
    {
     "data": {
      "text/plain": [
       "((890, 696), (382, 696))"
      ]
     },
     "execution_count": 4,
     "metadata": {},
     "output_type": "execute_result"
    }
   ],
   "source": [
    "X.shape, Xtest.shape"
   ]
  },
  {
   "cell_type": "code",
   "execution_count": 5,
   "metadata": {
    "collapsed": false
   },
   "outputs": [
    {
     "data": {
      "text/plain": [
       "2    623\n",
       "1    267\n",
       "dtype: int64"
      ]
     },
     "execution_count": 5,
     "metadata": {},
     "output_type": "execute_result"
    }
   ],
   "source": [
    "y.value_counts()"
   ]
  },
  {
   "cell_type": "markdown",
   "metadata": {},
   "source": [
    "# Feature engineering"
   ]
  },
  {
   "cell_type": "code",
   "execution_count": 6,
   "metadata": {
    "collapsed": true
   },
   "outputs": [],
   "source": [
    "PHOGcols = range(680)\n",
    "Sig1Dcols = range(680, 696)"
   ]
  },
  {
   "cell_type": "markdown",
   "metadata": {},
   "source": [
    "Information regarding the meaning of 1Dsig and PHOG can be found at: https://ml2.inf.ethz.ch/courses/ml/tutorials/iml_tutorial_10.pdf"
   ]
  },
  {
   "cell_type": "code",
   "execution_count": 112,
   "metadata": {
    "collapsed": false
   },
   "outputs": [],
   "source": [
    "Xphog = X.ix[:, PHOGcols]\n",
    "Xphog_test = Xtest.ix[:, PHOGcols]\n",
    "Xsig1D = X.ix[:, Sig1Dcols]\n",
    "Xsig1D_test = Xtest.ix[:, Sig1Dcols]"
   ]
  },
  {
   "cell_type": "code",
   "execution_count": 8,
   "metadata": {
    "collapsed": false,
    "scrolled": false
   },
   "outputs": [
    {
     "data": {
      "text/html": [
       "<div style=\"max-height:1000px;max-width:1500px;overflow:auto;\">\n",
       "<table border=\"1\" class=\"dataframe\">\n",
       "  <thead>\n",
       "    <tr style=\"text-align: right;\">\n",
       "      <th></th>\n",
       "      <th>PHOG1</th>\n",
       "      <th>PHOG2</th>\n",
       "      <th>PHOG3</th>\n",
       "      <th>PHOG4</th>\n",
       "      <th>PHOG5</th>\n",
       "      <th>PHOG6</th>\n",
       "      <th>PHOG7</th>\n",
       "      <th>PHOG8</th>\n",
       "      <th>PHOG9</th>\n",
       "      <th>PHOG10</th>\n",
       "      <th>...</th>\n",
       "      <th>PHOG671</th>\n",
       "      <th>PHOG672</th>\n",
       "      <th>PHOG673</th>\n",
       "      <th>PHOG674</th>\n",
       "      <th>PHOG675</th>\n",
       "      <th>PHOG676</th>\n",
       "      <th>PHOG677</th>\n",
       "      <th>PHOG678</th>\n",
       "      <th>PHOG679</th>\n",
       "      <th>PHOG680</th>\n",
       "    </tr>\n",
       "  </thead>\n",
       "  <tbody>\n",
       "    <tr>\n",
       "      <th>0</th>\n",
       "      <td> 0.022262</td>\n",
       "      <td> 0.022726</td>\n",
       "      <td> 0.036360</td>\n",
       "      <td> 0.044410</td>\n",
       "      <td> 0.023830</td>\n",
       "      <td> 0.024371</td>\n",
       "      <td> 0.047929</td>\n",
       "      <td> 0.038420</td>\n",
       "      <td> 0.009257</td>\n",
       "      <td> 0.005418</td>\n",
       "      <td>...</td>\n",
       "      <td> 0.000000</td>\n",
       "      <td> 0.000000</td>\n",
       "      <td> 0.000000</td>\n",
       "      <td> 0.000671</td>\n",
       "      <td> 0.000987</td>\n",
       "      <td> 0.000728</td>\n",
       "      <td> 0.000174</td>\n",
       "      <td> 0.000173</td>\n",
       "      <td> 0.000268</td>\n",
       "      <td> 0.000000</td>\n",
       "    </tr>\n",
       "    <tr>\n",
       "      <th>1</th>\n",
       "      <td> 0.012610</td>\n",
       "      <td> 0.012450</td>\n",
       "      <td> 0.071335</td>\n",
       "      <td> 0.037531</td>\n",
       "      <td> 0.007311</td>\n",
       "      <td> 0.009596</td>\n",
       "      <td> 0.066724</td>\n",
       "      <td> 0.043898</td>\n",
       "      <td> 0.005685</td>\n",
       "      <td> 0.003667</td>\n",
       "      <td>...</td>\n",
       "      <td> 0.000000</td>\n",
       "      <td> 0.000000</td>\n",
       "      <td> 0.000566</td>\n",
       "      <td> 0.000000</td>\n",
       "      <td> 0.000000</td>\n",
       "      <td> 0.000203</td>\n",
       "      <td> 0.000000</td>\n",
       "      <td> 0.000567</td>\n",
       "      <td> 0.001306</td>\n",
       "      <td> 0.000202</td>\n",
       "    </tr>\n",
       "    <tr>\n",
       "      <th>2</th>\n",
       "      <td> 0.025992</td>\n",
       "      <td> 0.039643</td>\n",
       "      <td> 0.038228</td>\n",
       "      <td> 0.031641</td>\n",
       "      <td> 0.021685</td>\n",
       "      <td> 0.028254</td>\n",
       "      <td> 0.039459</td>\n",
       "      <td> 0.036250</td>\n",
       "      <td> 0.008339</td>\n",
       "      <td> 0.009046</td>\n",
       "      <td>...</td>\n",
       "      <td> 0.000581</td>\n",
       "      <td> 0.000408</td>\n",
       "      <td> 0.000163</td>\n",
       "      <td> 0.000000</td>\n",
       "      <td> 0.000172</td>\n",
       "      <td> 0.001328</td>\n",
       "      <td> 0.000000</td>\n",
       "      <td> 0.000000</td>\n",
       "      <td> 0.000000</td>\n",
       "      <td> 0.000146</td>\n",
       "    </tr>\n",
       "    <tr>\n",
       "      <th>3</th>\n",
       "      <td> 0.032523</td>\n",
       "      <td> 0.032168</td>\n",
       "      <td> 0.035243</td>\n",
       "      <td> 0.030806</td>\n",
       "      <td> 0.031936</td>\n",
       "      <td> 0.031387</td>\n",
       "      <td> 0.037663</td>\n",
       "      <td> 0.024821</td>\n",
       "      <td> 0.009769</td>\n",
       "      <td> 0.011665</td>\n",
       "      <td>...</td>\n",
       "      <td> 0.000143</td>\n",
       "      <td> 0.000436</td>\n",
       "      <td> 0.001412</td>\n",
       "      <td> 0.002262</td>\n",
       "      <td> 0.001477</td>\n",
       "      <td> 0.000479</td>\n",
       "      <td> 0.000000</td>\n",
       "      <td> 0.000000</td>\n",
       "      <td> 0.000000</td>\n",
       "      <td> 0.000000</td>\n",
       "    </tr>\n",
       "    <tr>\n",
       "      <th>4</th>\n",
       "      <td> 0.028967</td>\n",
       "      <td> 0.026514</td>\n",
       "      <td> 0.027574</td>\n",
       "      <td> 0.041115</td>\n",
       "      <td> 0.033244</td>\n",
       "      <td> 0.031683</td>\n",
       "      <td> 0.029524</td>\n",
       "      <td> 0.039006</td>\n",
       "      <td> 0.010779</td>\n",
       "      <td> 0.004814</td>\n",
       "      <td>...</td>\n",
       "      <td> 0.000000</td>\n",
       "      <td> 0.000000</td>\n",
       "      <td> 0.000202</td>\n",
       "      <td> 0.000212</td>\n",
       "      <td> 0.001074</td>\n",
       "      <td> 0.000055</td>\n",
       "      <td> 0.000000</td>\n",
       "      <td> 0.000000</td>\n",
       "      <td> 0.000000</td>\n",
       "      <td> 0.000000</td>\n",
       "    </tr>\n",
       "  </tbody>\n",
       "</table>\n",
       "<p>5 rows × 680 columns</p>\n",
       "</div>"
      ],
      "text/plain": [
       "      PHOG1     PHOG2     PHOG3     PHOG4     PHOG5     PHOG6     PHOG7  \\\n",
       "0  0.022262  0.022726  0.036360  0.044410  0.023830  0.024371  0.047929   \n",
       "1  0.012610  0.012450  0.071335  0.037531  0.007311  0.009596  0.066724   \n",
       "2  0.025992  0.039643  0.038228  0.031641  0.021685  0.028254  0.039459   \n",
       "3  0.032523  0.032168  0.035243  0.030806  0.031936  0.031387  0.037663   \n",
       "4  0.028967  0.026514  0.027574  0.041115  0.033244  0.031683  0.029524   \n",
       "\n",
       "      PHOG8     PHOG9    PHOG10    ...      PHOG671   PHOG672   PHOG673  \\\n",
       "0  0.038420  0.009257  0.005418    ...     0.000000  0.000000  0.000000   \n",
       "1  0.043898  0.005685  0.003667    ...     0.000000  0.000000  0.000566   \n",
       "2  0.036250  0.008339  0.009046    ...     0.000581  0.000408  0.000163   \n",
       "3  0.024821  0.009769  0.011665    ...     0.000143  0.000436  0.001412   \n",
       "4  0.039006  0.010779  0.004814    ...     0.000000  0.000000  0.000202   \n",
       "\n",
       "    PHOG674   PHOG675   PHOG676   PHOG677   PHOG678   PHOG679   PHOG680  \n",
       "0  0.000671  0.000987  0.000728  0.000174  0.000173  0.000268  0.000000  \n",
       "1  0.000000  0.000000  0.000203  0.000000  0.000567  0.001306  0.000202  \n",
       "2  0.000000  0.000172  0.001328  0.000000  0.000000  0.000000  0.000146  \n",
       "3  0.002262  0.001477  0.000479  0.000000  0.000000  0.000000  0.000000  \n",
       "4  0.000212  0.001074  0.000055  0.000000  0.000000  0.000000  0.000000  \n",
       "\n",
       "[5 rows x 680 columns]"
      ]
     },
     "execution_count": 8,
     "metadata": {},
     "output_type": "execute_result"
    }
   ],
   "source": [
    "Xphog.head()"
   ]
  },
  {
   "cell_type": "code",
   "execution_count": 9,
   "metadata": {
    "collapsed": false,
    "scrolled": true
   },
   "outputs": [
    {
     "data": {
      "text/html": [
       "<div style=\"max-height:1000px;max-width:1500px;overflow:auto;\">\n",
       "<table border=\"1\" class=\"dataframe\">\n",
       "  <thead>\n",
       "    <tr style=\"text-align: right;\">\n",
       "      <th></th>\n",
       "      <th>1Dsig1</th>\n",
       "      <th>1Dsig2</th>\n",
       "      <th>1Dsig3</th>\n",
       "      <th>1Dsig4</th>\n",
       "      <th>1Dsig5</th>\n",
       "      <th>1Dsig6</th>\n",
       "      <th>1Dsig7</th>\n",
       "      <th>1Dsig8</th>\n",
       "      <th>1Dsig9</th>\n",
       "      <th>1Dsig10</th>\n",
       "      <th>1Dsig11</th>\n",
       "      <th>1Dsig12</th>\n",
       "      <th>1Dsig13</th>\n",
       "      <th>1Dsig14</th>\n",
       "      <th>1Dsig15</th>\n",
       "      <th>1Dsig16</th>\n",
       "    </tr>\n",
       "  </thead>\n",
       "  <tbody>\n",
       "    <tr>\n",
       "      <th>0</th>\n",
       "      <td> 0.062016</td>\n",
       "      <td> 0.054264</td>\n",
       "      <td> 0.046512</td>\n",
       "      <td> 0.077519</td>\n",
       "      <td> 0.054264</td>\n",
       "      <td> 0.054264</td>\n",
       "      <td> 0.100780</td>\n",
       "      <td> 0.069767</td>\n",
       "      <td> 0.046512</td>\n",
       "      <td> 0.054264</td>\n",
       "      <td> 0.054264</td>\n",
       "      <td> 0.054264</td>\n",
       "      <td> 0.077519</td>\n",
       "      <td> 0.069767</td>\n",
       "      <td> 0.069767</td>\n",
       "      <td> 0.054264</td>\n",
       "    </tr>\n",
       "    <tr>\n",
       "      <th>1</th>\n",
       "      <td> 0.073171</td>\n",
       "      <td> 0.056911</td>\n",
       "      <td> 0.065041</td>\n",
       "      <td> 0.056911</td>\n",
       "      <td> 0.065041</td>\n",
       "      <td> 0.056911</td>\n",
       "      <td> 0.065041</td>\n",
       "      <td> 0.065041</td>\n",
       "      <td> 0.065041</td>\n",
       "      <td> 0.056911</td>\n",
       "      <td> 0.073171</td>\n",
       "      <td> 0.065041</td>\n",
       "      <td> 0.065041</td>\n",
       "      <td> 0.048780</td>\n",
       "      <td> 0.065041</td>\n",
       "      <td> 0.056911</td>\n",
       "    </tr>\n",
       "    <tr>\n",
       "      <th>2</th>\n",
       "      <td> 0.082569</td>\n",
       "      <td> 0.055046</td>\n",
       "      <td> 0.055046</td>\n",
       "      <td> 0.055046</td>\n",
       "      <td> 0.064220</td>\n",
       "      <td> 0.073394</td>\n",
       "      <td> 0.064220</td>\n",
       "      <td> 0.055046</td>\n",
       "      <td> 0.064220</td>\n",
       "      <td> 0.064220</td>\n",
       "      <td> 0.073394</td>\n",
       "      <td> 0.055046</td>\n",
       "      <td> 0.045872</td>\n",
       "      <td> 0.055046</td>\n",
       "      <td> 0.073394</td>\n",
       "      <td> 0.064220</td>\n",
       "    </tr>\n",
       "    <tr>\n",
       "      <th>3</th>\n",
       "      <td> 0.076923</td>\n",
       "      <td> 0.068376</td>\n",
       "      <td> 0.068376</td>\n",
       "      <td> 0.059829</td>\n",
       "      <td> 0.059829</td>\n",
       "      <td> 0.051282</td>\n",
       "      <td> 0.076923</td>\n",
       "      <td> 0.042735</td>\n",
       "      <td> 0.051282</td>\n",
       "      <td> 0.076923</td>\n",
       "      <td> 0.068376</td>\n",
       "      <td> 0.059829</td>\n",
       "      <td> 0.059829</td>\n",
       "      <td> 0.076923</td>\n",
       "      <td> 0.042735</td>\n",
       "      <td> 0.059829</td>\n",
       "    </tr>\n",
       "    <tr>\n",
       "      <th>4</th>\n",
       "      <td> 0.071429</td>\n",
       "      <td> 0.071429</td>\n",
       "      <td> 0.071429</td>\n",
       "      <td> 0.055556</td>\n",
       "      <td> 0.063492</td>\n",
       "      <td> 0.047619</td>\n",
       "      <td> 0.055556</td>\n",
       "      <td> 0.047619</td>\n",
       "      <td> 0.071429</td>\n",
       "      <td> 0.087302</td>\n",
       "      <td> 0.031746</td>\n",
       "      <td> 0.071429</td>\n",
       "      <td> 0.063492</td>\n",
       "      <td> 0.079365</td>\n",
       "      <td> 0.063492</td>\n",
       "      <td> 0.047619</td>\n",
       "    </tr>\n",
       "  </tbody>\n",
       "</table>\n",
       "</div>"
      ],
      "text/plain": [
       "     1Dsig1    1Dsig2    1Dsig3    1Dsig4    1Dsig5    1Dsig6    1Dsig7  \\\n",
       "0  0.062016  0.054264  0.046512  0.077519  0.054264  0.054264  0.100780   \n",
       "1  0.073171  0.056911  0.065041  0.056911  0.065041  0.056911  0.065041   \n",
       "2  0.082569  0.055046  0.055046  0.055046  0.064220  0.073394  0.064220   \n",
       "3  0.076923  0.068376  0.068376  0.059829  0.059829  0.051282  0.076923   \n",
       "4  0.071429  0.071429  0.071429  0.055556  0.063492  0.047619  0.055556   \n",
       "\n",
       "     1Dsig8    1Dsig9   1Dsig10   1Dsig11   1Dsig12   1Dsig13   1Dsig14  \\\n",
       "0  0.069767  0.046512  0.054264  0.054264  0.054264  0.077519  0.069767   \n",
       "1  0.065041  0.065041  0.056911  0.073171  0.065041  0.065041  0.048780   \n",
       "2  0.055046  0.064220  0.064220  0.073394  0.055046  0.045872  0.055046   \n",
       "3  0.042735  0.051282  0.076923  0.068376  0.059829  0.059829  0.076923   \n",
       "4  0.047619  0.071429  0.087302  0.031746  0.071429  0.063492  0.079365   \n",
       "\n",
       "    1Dsig15   1Dsig16  \n",
       "0  0.069767  0.054264  \n",
       "1  0.065041  0.056911  \n",
       "2  0.073394  0.064220  \n",
       "3  0.042735  0.059829  \n",
       "4  0.063492  0.047619  "
      ]
     },
     "execution_count": 9,
     "metadata": {},
     "output_type": "execute_result"
    }
   ],
   "source": [
    "Xsig1D.head()"
   ]
  },
  {
   "cell_type": "markdown",
   "metadata": {},
   "source": [
    "### 1D signature"
   ]
  },
  {
   "cell_type": "code",
   "execution_count": 113,
   "metadata": {
    "collapsed": true
   },
   "outputs": [],
   "source": [
    "X['1Dsig-var'] = Xsig1D.var(axis = 1)\n",
    "X['1Dsig-mean'] = Xsig1D.mean(axis = 1)\n",
    "Xtest['1Dsig-var'] = Xsig1D_test.var(axis = 1)\n",
    "Xtest['1Dsig-mean'] = Xsig1D_test.mean(axis = 1)"
   ]
  },
  {
   "cell_type": "code",
   "execution_count": 11,
   "metadata": {
    "collapsed": false
   },
   "outputs": [
    {
     "data": {
      "text/html": [
       "<div style=\"max-height:1000px;max-width:1500px;overflow:auto;\">\n",
       "<table border=\"1\" class=\"dataframe\">\n",
       "  <thead>\n",
       "    <tr style=\"text-align: right;\">\n",
       "      <th></th>\n",
       "      <th>PHOG1</th>\n",
       "      <th>PHOG2</th>\n",
       "      <th>PHOG3</th>\n",
       "      <th>PHOG4</th>\n",
       "      <th>PHOG5</th>\n",
       "      <th>PHOG6</th>\n",
       "      <th>PHOG7</th>\n",
       "      <th>PHOG8</th>\n",
       "      <th>PHOG9</th>\n",
       "      <th>PHOG10</th>\n",
       "      <th>...</th>\n",
       "      <th>1Dsig9</th>\n",
       "      <th>1Dsig10</th>\n",
       "      <th>1Dsig11</th>\n",
       "      <th>1Dsig12</th>\n",
       "      <th>1Dsig13</th>\n",
       "      <th>1Dsig14</th>\n",
       "      <th>1Dsig15</th>\n",
       "      <th>1Dsig16</th>\n",
       "      <th>1Dsig-var</th>\n",
       "      <th>1Dsig-mean</th>\n",
       "    </tr>\n",
       "  </thead>\n",
       "  <tbody>\n",
       "    <tr>\n",
       "      <th>0</th>\n",
       "      <td> 0.022262</td>\n",
       "      <td> 0.022726</td>\n",
       "      <td> 0.036360</td>\n",
       "      <td> 0.044410</td>\n",
       "      <td> 0.023830</td>\n",
       "      <td> 0.024371</td>\n",
       "      <td> 0.047929</td>\n",
       "      <td> 0.038420</td>\n",
       "      <td> 0.009257</td>\n",
       "      <td> 0.005418</td>\n",
       "      <td>...</td>\n",
       "      <td> 0.046512</td>\n",
       "      <td> 0.054264</td>\n",
       "      <td> 0.054264</td>\n",
       "      <td> 0.054264</td>\n",
       "      <td> 0.077519</td>\n",
       "      <td> 0.069767</td>\n",
       "      <td> 0.069767</td>\n",
       "      <td> 0.054264</td>\n",
       "      <td> 0.000204</td>\n",
       "      <td> 0.0625</td>\n",
       "    </tr>\n",
       "    <tr>\n",
       "      <th>1</th>\n",
       "      <td> 0.012610</td>\n",
       "      <td> 0.012450</td>\n",
       "      <td> 0.071335</td>\n",
       "      <td> 0.037531</td>\n",
       "      <td> 0.007311</td>\n",
       "      <td> 0.009596</td>\n",
       "      <td> 0.066724</td>\n",
       "      <td> 0.043898</td>\n",
       "      <td> 0.005685</td>\n",
       "      <td> 0.003667</td>\n",
       "      <td>...</td>\n",
       "      <td> 0.065041</td>\n",
       "      <td> 0.056911</td>\n",
       "      <td> 0.073171</td>\n",
       "      <td> 0.065041</td>\n",
       "      <td> 0.065041</td>\n",
       "      <td> 0.048780</td>\n",
       "      <td> 0.065041</td>\n",
       "      <td> 0.056911</td>\n",
       "      <td> 0.000042</td>\n",
       "      <td> 0.0625</td>\n",
       "    </tr>\n",
       "    <tr>\n",
       "      <th>2</th>\n",
       "      <td> 0.025992</td>\n",
       "      <td> 0.039643</td>\n",
       "      <td> 0.038228</td>\n",
       "      <td> 0.031641</td>\n",
       "      <td> 0.021685</td>\n",
       "      <td> 0.028254</td>\n",
       "      <td> 0.039459</td>\n",
       "      <td> 0.036250</td>\n",
       "      <td> 0.008339</td>\n",
       "      <td> 0.009046</td>\n",
       "      <td>...</td>\n",
       "      <td> 0.064220</td>\n",
       "      <td> 0.064220</td>\n",
       "      <td> 0.073394</td>\n",
       "      <td> 0.055046</td>\n",
       "      <td> 0.045872</td>\n",
       "      <td> 0.055046</td>\n",
       "      <td> 0.073394</td>\n",
       "      <td> 0.064220</td>\n",
       "      <td> 0.000092</td>\n",
       "      <td> 0.0625</td>\n",
       "    </tr>\n",
       "    <tr>\n",
       "      <th>3</th>\n",
       "      <td> 0.032523</td>\n",
       "      <td> 0.032168</td>\n",
       "      <td> 0.035243</td>\n",
       "      <td> 0.030806</td>\n",
       "      <td> 0.031936</td>\n",
       "      <td> 0.031387</td>\n",
       "      <td> 0.037663</td>\n",
       "      <td> 0.024821</td>\n",
       "      <td> 0.009769</td>\n",
       "      <td> 0.011665</td>\n",
       "      <td>...</td>\n",
       "      <td> 0.051282</td>\n",
       "      <td> 0.076923</td>\n",
       "      <td> 0.068376</td>\n",
       "      <td> 0.059829</td>\n",
       "      <td> 0.059829</td>\n",
       "      <td> 0.076923</td>\n",
       "      <td> 0.042735</td>\n",
       "      <td> 0.059829</td>\n",
       "      <td> 0.000134</td>\n",
       "      <td> 0.0625</td>\n",
       "    </tr>\n",
       "    <tr>\n",
       "      <th>4</th>\n",
       "      <td> 0.028967</td>\n",
       "      <td> 0.026514</td>\n",
       "      <td> 0.027574</td>\n",
       "      <td> 0.041115</td>\n",
       "      <td> 0.033244</td>\n",
       "      <td> 0.031683</td>\n",
       "      <td> 0.029524</td>\n",
       "      <td> 0.039006</td>\n",
       "      <td> 0.010779</td>\n",
       "      <td> 0.004814</td>\n",
       "      <td>...</td>\n",
       "      <td> 0.071429</td>\n",
       "      <td> 0.087302</td>\n",
       "      <td> 0.031746</td>\n",
       "      <td> 0.071429</td>\n",
       "      <td> 0.063492</td>\n",
       "      <td> 0.079365</td>\n",
       "      <td> 0.063492</td>\n",
       "      <td> 0.047619</td>\n",
       "      <td> 0.000201</td>\n",
       "      <td> 0.0625</td>\n",
       "    </tr>\n",
       "  </tbody>\n",
       "</table>\n",
       "<p>5 rows × 698 columns</p>\n",
       "</div>"
      ],
      "text/plain": [
       "      PHOG1     PHOG2     PHOG3     PHOG4     PHOG5     PHOG6     PHOG7  \\\n",
       "0  0.022262  0.022726  0.036360  0.044410  0.023830  0.024371  0.047929   \n",
       "1  0.012610  0.012450  0.071335  0.037531  0.007311  0.009596  0.066724   \n",
       "2  0.025992  0.039643  0.038228  0.031641  0.021685  0.028254  0.039459   \n",
       "3  0.032523  0.032168  0.035243  0.030806  0.031936  0.031387  0.037663   \n",
       "4  0.028967  0.026514  0.027574  0.041115  0.033244  0.031683  0.029524   \n",
       "\n",
       "      PHOG8     PHOG9    PHOG10     ...        1Dsig9   1Dsig10   1Dsig11  \\\n",
       "0  0.038420  0.009257  0.005418     ...      0.046512  0.054264  0.054264   \n",
       "1  0.043898  0.005685  0.003667     ...      0.065041  0.056911  0.073171   \n",
       "2  0.036250  0.008339  0.009046     ...      0.064220  0.064220  0.073394   \n",
       "3  0.024821  0.009769  0.011665     ...      0.051282  0.076923  0.068376   \n",
       "4  0.039006  0.010779  0.004814     ...      0.071429  0.087302  0.031746   \n",
       "\n",
       "    1Dsig12   1Dsig13   1Dsig14   1Dsig15   1Dsig16  1Dsig-var  1Dsig-mean  \n",
       "0  0.054264  0.077519  0.069767  0.069767  0.054264   0.000204      0.0625  \n",
       "1  0.065041  0.065041  0.048780  0.065041  0.056911   0.000042      0.0625  \n",
       "2  0.055046  0.045872  0.055046  0.073394  0.064220   0.000092      0.0625  \n",
       "3  0.059829  0.059829  0.076923  0.042735  0.059829   0.000134      0.0625  \n",
       "4  0.071429  0.063492  0.079365  0.063492  0.047619   0.000201      0.0625  \n",
       "\n",
       "[5 rows x 698 columns]"
      ]
     },
     "execution_count": 11,
     "metadata": {},
     "output_type": "execute_result"
    }
   ],
   "source": [
    "X.head()"
   ]
  },
  {
   "cell_type": "markdown",
   "metadata": {},
   "source": [
    "### PHOG"
   ]
  },
  {
   "cell_type": "markdown",
   "metadata": {},
   "source": [
    "In the description, they said they used \"a level 3 pyramid\", and the PHOG have 860 columns (bins?). So...? wtf.."
   ]
  },
  {
   "cell_type": "markdown",
   "metadata": {},
   "source": [
    "http://blog.csdn.net/smartempire/article/details/24038355"
   ]
  },
  {
   "cell_type": "code",
   "execution_count": null,
   "metadata": {
    "collapsed": true
   },
   "outputs": [],
   "source": []
  },
  {
   "cell_type": "markdown",
   "metadata": {},
   "source": [
    "# Normalization?"
   ]
  },
  {
   "cell_type": "markdown",
   "metadata": {},
   "source": [
    "Not sure whether normalization will help or the contrary..."
   ]
  },
  {
   "cell_type": "code",
   "execution_count": 56,
   "metadata": {
    "collapsed": false
   },
   "outputs": [],
   "source": [
    "from sklearn.preprocessing import normalize"
   ]
  },
  {
   "cell_type": "code",
   "execution_count": 57,
   "metadata": {
    "collapsed": false
   },
   "outputs": [
    {
     "data": {
      "text/plain": [
       "(1272, 696)"
      ]
     },
     "execution_count": 57,
     "metadata": {},
     "output_type": "execute_result"
    }
   ],
   "source": [
    "XX = X.append(Xtest)\n",
    "XX.shape"
   ]
  },
  {
   "cell_type": "code",
   "execution_count": 58,
   "metadata": {
    "collapsed": false
   },
   "outputs": [],
   "source": [
    "XX = normalize(XX)"
   ]
  },
  {
   "cell_type": "code",
   "execution_count": 59,
   "metadata": {
    "collapsed": true
   },
   "outputs": [],
   "source": [
    "Xn = XX[:X.shape[0],:]\n",
    "Xtn = XX[X.shape[0]:,:]"
   ]
  },
  {
   "cell_type": "code",
   "execution_count": 60,
   "metadata": {
    "collapsed": false
   },
   "outputs": [
    {
     "data": {
      "text/plain": [
       "((890, 696), (382, 696))"
      ]
     },
     "execution_count": 60,
     "metadata": {},
     "output_type": "execute_result"
    }
   ],
   "source": [
    "Xn.shape, Xtn.shape"
   ]
  },
  {
   "cell_type": "markdown",
   "metadata": {},
   "source": [
    "# Dimension reduction"
   ]
  },
  {
   "cell_type": "code",
   "execution_count": 35,
   "metadata": {
    "collapsed": true
   },
   "outputs": [],
   "source": [
    "from sklearn.decomposition import PCA"
   ]
  },
  {
   "cell_type": "code",
   "execution_count": 69,
   "metadata": {
    "collapsed": true
   },
   "outputs": [],
   "source": [
    "Xpca50 = PCA(n_components=50).fit_transform(X)"
   ]
  },
  {
   "cell_type": "code",
   "execution_count": 70,
   "metadata": {
    "collapsed": true
   },
   "outputs": [],
   "source": [
    "Xpca100 = PCA(n_components=100).fit_transform(X)\n",
    "Xpca200 = PCA(n_components=200).fit_transform(X)"
   ]
  },
  {
   "cell_type": "markdown",
   "metadata": {},
   "source": [
    "# Train clf and cross validate"
   ]
  },
  {
   "cell_type": "markdown",
   "metadata": {},
   "source": [
    "Note: the classes are not balanced, we need to re-weight in the classfiers (for example, use `class_weight='balanced'`), and as we have more features than data, it's better to use L1 regularization. "
   ]
  },
  {
   "cell_type": "code",
   "execution_count": 17,
   "metadata": {
    "collapsed": true
   },
   "outputs": [],
   "source": [
    "from sklearn.svm import LinearSVC, SVC\n",
    "from sklearn.linear_model.logistic import LogisticRegression"
   ]
  },
  {
   "cell_type": "code",
   "execution_count": 104,
   "metadata": {
    "collapsed": false
   },
   "outputs": [
    {
     "name": "stdout",
     "output_type": "stream",
     "text": [
      "[ 0.72390572  0.73063973  0.73310811]\n",
      "CV score: 0.7292 +/- 0.0027\n",
      "\n",
      "Confusion matrix:\n",
      "predicted→         1         2    recall\n",
      "actual↓\n",
      "1                163       104    0.6105\n",
      "2                137       486    0.7801\n",
      "precision     0.5433    0.8237  [0.7292]\n",
      "MCC: 0.3971\n"
     ]
    }
   ],
   "source": [
    "eval_clf(LinearSVC(C=100, penalty='l1', dual=False ,class_weight='balanced', random_state=0),X,y, )"
   ]
  },
  {
   "cell_type": "code",
   "execution_count": 89,
   "metadata": {
    "collapsed": false
   },
   "outputs": [
    {
     "name": "stdout",
     "output_type": "stream",
     "text": [
      "[ 0.73063973  0.74074074  0.77027027]\n",
      "CV score: 0.7472 +/- 0.0119\n",
      "\n",
      "Confusion matrix:\n",
      "predicted→         1         2    recall\n",
      "actual↓\n",
      "1                 94       173    0.3521\n",
      "2                 52       571    0.9165\n",
      "precision     0.6438    0.7675  [0.7472]\n",
      "MCC: 0.3083\n"
     ]
    }
   ],
   "source": [
    "eval_clf(LinearSVC(C=500, class_weight='balanced', random_state=0),Xpca50,y)"
   ]
  },
  {
   "cell_type": "code",
   "execution_count": 82,
   "metadata": {
    "collapsed": false
   },
   "outputs": [
    {
     "name": "stdout",
     "output_type": "stream",
     "text": [
      "[ 0.75757576  0.76094276  0.79391892]\n",
      "CV score: 0.7708 +/- 0.0116\n",
      "\n",
      "Confusion matrix:\n",
      "predicted→         1         2    recall\n",
      "actual↓\n",
      "1                 98       169     0.367\n",
      "2                 35       588    0.9438\n",
      "precision     0.7368    0.7768  [0.7708]\n",
      "MCC: 0.3974\n"
     ]
    }
   ],
   "source": [
    "eval_clf(LinearSVC(C=600, class_weight='balanced', random_state=0),Xpca100,y, )"
   ]
  },
  {
   "cell_type": "code",
   "execution_count": 102,
   "metadata": {
    "collapsed": false
   },
   "outputs": [
    {
     "name": "stdout",
     "output_type": "stream",
     "text": [
      "[ 0.72727273  0.71043771  0.76689189]\n",
      "CV score: 0.7349 +/- 0.0167\n",
      "\n",
      "Confusion matrix:\n",
      "predicted→         1         2    recall\n",
      "actual↓\n",
      "1                181        86    0.6779\n",
      "2                150       473    0.7592\n",
      "precision     0.5468    0.8462  [0.7348]\n",
      "MCC: 0.4360\n"
     ]
    }
   ],
   "source": [
    "eval_clf(LinearSVC(C=1000, penalty='l1', dual=False, class_weight='balanced', random_state=0),Xpca100,y, )"
   ]
  },
  {
   "cell_type": "code",
   "execution_count": 111,
   "metadata": {
    "collapsed": false
   },
   "outputs": [
    {
     "name": "stdout",
     "output_type": "stream",
     "text": [
      "[ 0.7037037   0.71043771  0.78716216]\n",
      "CV score: 0.7338 +/- 0.0268\n",
      "\n",
      "Confusion matrix:\n",
      "predicted→         1         2    recall\n",
      "actual↓\n",
      "1                177        90    0.6629\n",
      "2                147       476     0.764\n",
      "precision     0.5463     0.841  [0.7337]\n",
      "MCC: 0.4276\n"
     ]
    }
   ],
   "source": [
    "eval_clf(LinearSVC(C=30, class_weight='balanced', penalty='l1', dual=False, random_state=0),Xpca200,y, )"
   ]
  },
  {
   "cell_type": "code",
   "execution_count": 88,
   "metadata": {
    "collapsed": false
   },
   "outputs": [
    {
     "name": "stdout",
     "output_type": "stream",
     "text": [
      "[ 0.6969697   0.73737374  0.72972973]\n",
      "CV score: 0.7214 +/- 0.0124\n",
      "\n",
      "Confusion matrix:\n",
      "predicted→         1         2    recall\n",
      "actual↓\n",
      "1                160       107    0.5993\n",
      "2                141       482    0.7737\n",
      "precision     0.5316    0.8183  [0.7213]\n",
      "MCC: 0.3806\n"
     ]
    }
   ],
   "source": [
    "eval_clf(LogisticRegression(penalty='l1', C=1000, class_weight='balanced', random_state=0), X, y)"
   ]
  },
  {
   "cell_type": "code",
   "execution_count": 87,
   "metadata": {
    "collapsed": false
   },
   "outputs": [
    {
     "name": "stdout",
     "output_type": "stream",
     "text": [
      "[ 0.2996633   0.2996633   0.69932432]\n",
      "CV score: 0.4329 +/- 0.1332\n",
      "\n",
      "Confusion matrix:\n",
      "predicted→         1         2    recall\n",
      "actual↓\n",
      "1                178        89    0.6667\n",
      "2                416       207    0.3323\n",
      "precision     0.2997    0.6993  [0.4326]\n",
      "MCC: 0.0118\n"
     ]
    }
   ],
   "source": [
    "eval_clf(SVC(class_weight='balanced', C=1, random_state=0), Xpca50, y)"
   ]
  },
  {
   "cell_type": "markdown",
   "metadata": {},
   "source": [
    "# Make predictions"
   ]
  },
  {
   "cell_type": "markdown",
   "metadata": {},
   "source": [
    "For the moment the best result is linearSVC applied on Xpca100, we use it to make a prediciton. "
   ]
  },
  {
   "cell_type": "code",
   "execution_count": 96,
   "metadata": {
    "collapsed": false
   },
   "outputs": [
    {
     "data": {
      "text/plain": [
       "LinearSVC(C=600, class_weight='balanced', dual=True, fit_intercept=True,\n",
       "     intercept_scaling=1, loss='squared_hinge', max_iter=1000,\n",
       "     multi_class='ovr', penalty='l2', random_state=0, tol=0.0001,\n",
       "     verbose=0)"
      ]
     },
     "execution_count": 96,
     "metadata": {},
     "output_type": "execute_result"
    }
   ],
   "source": [
    "clf = LinearSVC(C=600, class_weight='balanced', random_state=0)\n",
    "clf.fit(Xpca100, y)"
   ]
  },
  {
   "cell_type": "code",
   "execution_count": 115,
   "metadata": {
    "collapsed": false
   },
   "outputs": [],
   "source": [
    "pca = PCA(n_components=100)\n",
    "pca.fit(X)\n",
    "Xtest_pca100 = pca.transform(Xtest)"
   ]
  },
  {
   "cell_type": "code",
   "execution_count": 116,
   "metadata": {
    "collapsed": true
   },
   "outputs": [],
   "source": [
    "y_pred = clf.predict(Xtest_pca100)"
   ]
  },
  {
   "cell_type": "code",
   "execution_count": 118,
   "metadata": {
    "collapsed": true
   },
   "outputs": [],
   "source": [
    "sub = pd.read_csv(\"examle_solution_handin.csv\")"
   ]
  },
  {
   "cell_type": "code",
   "execution_count": 119,
   "metadata": {
    "collapsed": true
   },
   "outputs": [],
   "source": [
    "sub['Label'] = y_pred"
   ]
  },
  {
   "cell_type": "code",
   "execution_count": 120,
   "metadata": {
    "collapsed": false
   },
   "outputs": [
    {
     "data": {
      "text/html": [
       "<div style=\"max-height:1000px;max-width:1500px;overflow:auto;\">\n",
       "<table border=\"1\" class=\"dataframe\">\n",
       "  <thead>\n",
       "    <tr style=\"text-align: right;\">\n",
       "      <th></th>\n",
       "      <th>Id</th>\n",
       "      <th>Label</th>\n",
       "    </tr>\n",
       "  </thead>\n",
       "  <tbody>\n",
       "    <tr>\n",
       "      <th>0</th>\n",
       "      <td>  665</td>\n",
       "      <td> 2</td>\n",
       "    </tr>\n",
       "    <tr>\n",
       "      <th>1</th>\n",
       "      <td>   12</td>\n",
       "      <td> 2</td>\n",
       "    </tr>\n",
       "    <tr>\n",
       "      <th>2</th>\n",
       "      <td> 1074</td>\n",
       "      <td> 2</td>\n",
       "    </tr>\n",
       "    <tr>\n",
       "      <th>3</th>\n",
       "      <td>  323</td>\n",
       "      <td> 1</td>\n",
       "    </tr>\n",
       "    <tr>\n",
       "      <th>4</th>\n",
       "      <td>  892</td>\n",
       "      <td> 1</td>\n",
       "    </tr>\n",
       "  </tbody>\n",
       "</table>\n",
       "</div>"
      ],
      "text/plain": [
       "     Id  Label\n",
       "0   665      2\n",
       "1    12      2\n",
       "2  1074      2\n",
       "3   323      1\n",
       "4   892      1"
      ]
     },
     "execution_count": 120,
     "metadata": {},
     "output_type": "execute_result"
    }
   ],
   "source": [
    "sub.head()"
   ]
  },
  {
   "cell_type": "code",
   "execution_count": 122,
   "metadata": {
    "collapsed": true
   },
   "outputs": [],
   "source": [
    "sub.to_csv(\"submissions/1205_linSVC.csv\", index=False)"
   ]
  }
 ],
 "metadata": {
  "kernelspec": {
   "display_name": "Python 2",
   "language": "python",
   "name": "python2"
  },
  "language_info": {
   "codemirror_mode": {
    "name": "ipython",
    "version": 2
   },
   "file_extension": ".py",
   "mimetype": "text/x-python",
   "name": "python",
   "nbconvert_exporter": "python",
   "pygments_lexer": "ipython2",
   "version": "2.7.6"
  }
 },
 "nbformat": 4,
 "nbformat_minor": 0
}
