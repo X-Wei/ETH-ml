{
 "cells": [
  {
   "cell_type": "code",
   "execution_count": 1,
   "metadata": {
    "collapsed": false
   },
   "outputs": [],
   "source": [
    "import pandas as pd\n",
    "from sklearn.ensemble import AdaBoostClassifier, GradientBoostingClassifier, ExtraTreesClassifier\n",
    "from sklearn.svm import SVC\n",
    "from sklearn.cross_validation import cross_val_score, KFold, StratifiedKFold\n",
    "from sklearn.metrics import confusion_matrix\n",
    "from scipy.stats import sem\n",
    "import math\n",
    "import numpy as np"
   ]
  },
  {
   "cell_type": "code",
   "execution_count": 2,
   "metadata": {
    "collapsed": false
   },
   "outputs": [],
   "source": [
    "def eval_clf(clf, X, y, K=3):\n",
    "    ret = {}\n",
    "    scores = cross_val_score(clf, X, y, cv = 3)\n",
    "    print scores\n",
    "    print \"CV score: %.4f +/- %.4f\" % (np.mean(scores), sem(scores))"
   ]
  },
  {
   "cell_type": "markdown",
   "metadata": {},
   "source": [
    "# 1. Read files"
   ]
  },
  {
   "cell_type": "code",
   "execution_count": 3,
   "metadata": {
    "collapsed": false
   },
   "outputs": [],
   "source": [
    "X = pd.read_csv('train.csv', names=['id', 'f1', 'f2', 'f3', 'f4', 'f5', 'f6', 'f7', 'cls'])\n",
    "del X['id']\n",
    "y = X.cls\n",
    "del X['cls']"
   ]
  },
  {
   "cell_type": "code",
   "execution_count": 4,
   "metadata": {
    "collapsed": false
   },
   "outputs": [
    {
     "data": {
      "text/html": [
       "<div style=\"max-height:1000px;max-width:1500px;overflow:auto;\">\n",
       "<table border=\"1\" class=\"dataframe\">\n",
       "  <thead>\n",
       "    <tr style=\"text-align: right;\">\n",
       "      <th></th>\n",
       "      <th>f1</th>\n",
       "      <th>f2</th>\n",
       "      <th>f3</th>\n",
       "      <th>f4</th>\n",
       "      <th>f5</th>\n",
       "      <th>f6</th>\n",
       "      <th>f7</th>\n",
       "    </tr>\n",
       "  </thead>\n",
       "  <tbody>\n",
       "    <tr>\n",
       "      <th>0</th>\n",
       "      <td> 2.789554e+07</td>\n",
       "      <td> 1.009072e+08</td>\n",
       "      <td> 8.829016e+07</td>\n",
       "      <td> 27747959.522896</td>\n",
       "      <td> 13544895.520226</td>\n",
       "      <td> 6032274.041509</td>\n",
       "      <td> 1.366203e+08</td>\n",
       "    </tr>\n",
       "    <tr>\n",
       "      <th>1</th>\n",
       "      <td> 1.043599e+08</td>\n",
       "      <td> 1.282256e+08</td>\n",
       "      <td> 1.447448e+08</td>\n",
       "      <td> 47212288.258147</td>\n",
       "      <td> 14638399.414053</td>\n",
       "      <td> 4656835.145223</td>\n",
       "      <td> 4.923979e+07</td>\n",
       "    </tr>\n",
       "    <tr>\n",
       "      <th>2</th>\n",
       "      <td> 4.505865e+07</td>\n",
       "      <td> 1.023771e+08</td>\n",
       "      <td> 3.970619e+07</td>\n",
       "      <td> 16765604.345182</td>\n",
       "      <td>  9393101.093684</td>\n",
       "      <td> 3112345.906015</td>\n",
       "      <td> 8.968546e+07</td>\n",
       "    </tr>\n",
       "    <tr>\n",
       "      <th>3</th>\n",
       "      <td> 6.362508e+07</td>\n",
       "      <td> 8.740953e+07</td>\n",
       "      <td> 3.032450e+07</td>\n",
       "      <td> 31085802.835866</td>\n",
       "      <td> 11920472.753832</td>\n",
       "      <td> 6181495.023623</td>\n",
       "      <td> 8.305517e+07</td>\n",
       "    </tr>\n",
       "    <tr>\n",
       "      <th>4</th>\n",
       "      <td> 6.861547e+07</td>\n",
       "      <td> 5.563033e+07</td>\n",
       "      <td> 3.440038e+07</td>\n",
       "      <td> 16321977.344475</td>\n",
       "      <td>  8851569.270636</td>\n",
       "      <td> 3760765.552838</td>\n",
       "      <td> 7.829024e+07</td>\n",
       "    </tr>\n",
       "  </tbody>\n",
       "</table>\n",
       "</div>"
      ],
      "text/plain": [
       "             f1            f2            f3               f4               f5  \\\n",
       "0  2.789554e+07  1.009072e+08  8.829016e+07  27747959.522896  13544895.520226   \n",
       "1  1.043599e+08  1.282256e+08  1.447448e+08  47212288.258147  14638399.414053   \n",
       "2  4.505865e+07  1.023771e+08  3.970619e+07  16765604.345182   9393101.093684   \n",
       "3  6.362508e+07  8.740953e+07  3.032450e+07  31085802.835866  11920472.753832   \n",
       "4  6.861547e+07  5.563033e+07  3.440038e+07  16321977.344475   8851569.270636   \n",
       "\n",
       "               f6            f7  \n",
       "0  6032274.041509  1.366203e+08  \n",
       "1  4656835.145223  4.923979e+07  \n",
       "2  3112345.906015  8.968546e+07  \n",
       "3  6181495.023623  8.305517e+07  \n",
       "4  3760765.552838  7.829024e+07  "
      ]
     },
     "execution_count": 4,
     "metadata": {},
     "output_type": "execute_result"
    }
   ],
   "source": [
    "X.head()"
   ]
  },
  {
   "cell_type": "code",
   "execution_count": 5,
   "metadata": {
    "collapsed": false
   },
   "outputs": [
    {
     "data": {
      "text/html": [
       "<div style=\"max-height:1000px;max-width:1500px;overflow:auto;\">\n",
       "<table border=\"1\" class=\"dataframe\">\n",
       "  <thead>\n",
       "    <tr style=\"text-align: right;\">\n",
       "      <th></th>\n",
       "      <th>f1</th>\n",
       "      <th>f2</th>\n",
       "      <th>f3</th>\n",
       "      <th>f4</th>\n",
       "      <th>f5</th>\n",
       "      <th>f6</th>\n",
       "      <th>f7</th>\n",
       "    </tr>\n",
       "  </thead>\n",
       "  <tbody>\n",
       "    <tr>\n",
       "      <th>0</th>\n",
       "      <td> 30762576.245750</td>\n",
       "      <td> 1.457529e+08</td>\n",
       "      <td> 37509273.423766</td>\n",
       "      <td> 25363635.893043</td>\n",
       "      <td> 10280755.654628</td>\n",
       "      <td> 2677420.957194</td>\n",
       "      <td> 5.731426e+07</td>\n",
       "    </tr>\n",
       "    <tr>\n",
       "      <th>1</th>\n",
       "      <td> 68215444.555826</td>\n",
       "      <td> 9.032480e+07</td>\n",
       "      <td> 70397677.163411</td>\n",
       "      <td> 35960556.882508</td>\n",
       "      <td> 13622016.510508</td>\n",
       "      <td> 2802449.029894</td>\n",
       "      <td> 3.807271e+07</td>\n",
       "    </tr>\n",
       "    <tr>\n",
       "      <th>2</th>\n",
       "      <td> 75473121.133032</td>\n",
       "      <td> 8.717498e+07</td>\n",
       "      <td> 76896678.903648</td>\n",
       "      <td> 29592820.296180</td>\n",
       "      <td> 22971007.653165</td>\n",
       "      <td> 3679701.722529</td>\n",
       "      <td> 5.111374e+07</td>\n",
       "    </tr>\n",
       "    <tr>\n",
       "      <th>3</th>\n",
       "      <td> 38492881.276742</td>\n",
       "      <td> 5.063998e+07</td>\n",
       "      <td> 94466838.827649</td>\n",
       "      <td> 24966820.937166</td>\n",
       "      <td> 13873010.329408</td>\n",
       "      <td> 7194749.986970</td>\n",
       "      <td> 5.320936e+08</td>\n",
       "    </tr>\n",
       "    <tr>\n",
       "      <th>4</th>\n",
       "      <td> 47811038.268233</td>\n",
       "      <td> 3.855800e+07</td>\n",
       "      <td> 22682356.302156</td>\n",
       "      <td> 13186915.227945</td>\n",
       "      <td> 13810196.684932</td>\n",
       "      <td> 3840556.399298</td>\n",
       "      <td> 5.081587e+07</td>\n",
       "    </tr>\n",
       "  </tbody>\n",
       "</table>\n",
       "</div>"
      ],
      "text/plain": [
       "                f1            f2               f3               f4  \\\n",
       "0  30762576.245750  1.457529e+08  37509273.423766  25363635.893043   \n",
       "1  68215444.555826  9.032480e+07  70397677.163411  35960556.882508   \n",
       "2  75473121.133032  8.717498e+07  76896678.903648  29592820.296180   \n",
       "3  38492881.276742  5.063998e+07  94466838.827649  24966820.937166   \n",
       "4  47811038.268233  3.855800e+07  22682356.302156  13186915.227945   \n",
       "\n",
       "                f5              f6            f7  \n",
       "0  10280755.654628  2677420.957194  5.731426e+07  \n",
       "1  13622016.510508  2802449.029894  3.807271e+07  \n",
       "2  22971007.653165  3679701.722529  5.111374e+07  \n",
       "3  13873010.329408  7194749.986970  5.320936e+08  \n",
       "4  13810196.684932  3840556.399298  5.081587e+07  "
      ]
     },
     "execution_count": 5,
     "metadata": {},
     "output_type": "execute_result"
    }
   ],
   "source": [
    "Xtest = pd.read_csv('validate_and_test.csv', names=['id', 'f1', 'f2', 'f3', 'f4', 'f5', 'f6', 'f7'])\n",
    "del Xtest['id']\n",
    "Xtest.head()"
   ]
  },
  {
   "cell_type": "code",
   "execution_count": 6,
   "metadata": {
    "collapsed": false
   },
   "outputs": [
    {
     "data": {
      "text/plain": [
       "((2025, 7), (2025,), (675, 7))"
      ]
     },
     "execution_count": 6,
     "metadata": {},
     "output_type": "execute_result"
    }
   ],
   "source": [
    "X.shape, y.shape, Xtest.shape"
   ]
  },
  {
   "cell_type": "code",
   "execution_count": 7,
   "metadata": {
    "collapsed": false
   },
   "outputs": [
    {
     "data": {
      "text/html": [
       "<div style=\"max-height:1000px;max-width:1500px;overflow:auto;\">\n",
       "<table border=\"1\" class=\"dataframe\">\n",
       "  <thead>\n",
       "    <tr style=\"text-align: right;\">\n",
       "      <th></th>\n",
       "      <th>Id</th>\n",
       "      <th>Label</th>\n",
       "    </tr>\n",
       "  </thead>\n",
       "  <tbody>\n",
       "    <tr>\n",
       "      <th>0</th>\n",
       "      <td> 2026</td>\n",
       "      <td> 1</td>\n",
       "    </tr>\n",
       "    <tr>\n",
       "      <th>1</th>\n",
       "      <td> 2027</td>\n",
       "      <td> 1</td>\n",
       "    </tr>\n",
       "    <tr>\n",
       "      <th>2</th>\n",
       "      <td> 2028</td>\n",
       "      <td> 0</td>\n",
       "    </tr>\n",
       "    <tr>\n",
       "      <th>3</th>\n",
       "      <td> 2029</td>\n",
       "      <td> 1</td>\n",
       "    </tr>\n",
       "    <tr>\n",
       "      <th>4</th>\n",
       "      <td> 2030</td>\n",
       "      <td> 0</td>\n",
       "    </tr>\n",
       "  </tbody>\n",
       "</table>\n",
       "</div>"
      ],
      "text/plain": [
       "     Id  Label\n",
       "0  2026      1\n",
       "1  2027      1\n",
       "2  2028      0\n",
       "3  2029      1\n",
       "4  2030      0"
      ]
     },
     "execution_count": 7,
     "metadata": {},
     "output_type": "execute_result"
    }
   ],
   "source": [
    "sub = pd.read_csv('example_submission.csv')\n",
    "sub.head()"
   ]
  },
  {
   "cell_type": "markdown",
   "metadata": {},
   "source": [
    "# 2. Normalization"
   ]
  },
  {
   "cell_type": "code",
   "execution_count": 9,
   "metadata": {
    "collapsed": false
   },
   "outputs": [],
   "source": [
    "from sklearn.preprocessing import normalize"
   ]
  },
  {
   "cell_type": "code",
   "execution_count": 10,
   "metadata": {
    "collapsed": false
   },
   "outputs": [
    {
     "data": {
      "text/plain": [
       "(2700, 7)"
      ]
     },
     "execution_count": 10,
     "metadata": {},
     "output_type": "execute_result"
    }
   ],
   "source": [
    "XX = X.append(Xtest)\n",
    "XX.shape"
   ]
  },
  {
   "cell_type": "code",
   "execution_count": 11,
   "metadata": {
    "collapsed": false
   },
   "outputs": [],
   "source": [
    "XX = normalize(XX)"
   ]
  },
  {
   "cell_type": "code",
   "execution_count": 12,
   "metadata": {
    "collapsed": false
   },
   "outputs": [],
   "source": [
    "Xn = XX[:X.shape[0],:]\n",
    "Xtn = XX[X.shape[0]:,:]"
   ]
  },
  {
   "cell_type": "code",
   "execution_count": 13,
   "metadata": {
    "collapsed": false
   },
   "outputs": [
    {
     "data": {
      "text/plain": [
       "((2025, 7), (675, 7))"
      ]
     },
     "execution_count": 13,
     "metadata": {},
     "output_type": "execute_result"
    }
   ],
   "source": [
    "Xn.shape, Xtn.shape"
   ]
  },
  {
   "cell_type": "code",
   "execution_count": 14,
   "metadata": {
    "collapsed": false
   },
   "outputs": [
    {
     "data": {
      "text/html": [
       "<div style=\"max-height:1000px;max-width:1500px;overflow:auto;\">\n",
       "<table border=\"1\" class=\"dataframe\">\n",
       "  <thead>\n",
       "    <tr style=\"text-align: right;\">\n",
       "      <th></th>\n",
       "      <th>0</th>\n",
       "      <th>1</th>\n",
       "      <th>2</th>\n",
       "      <th>3</th>\n",
       "      <th>4</th>\n",
       "      <th>5</th>\n",
       "      <th>6</th>\n",
       "    </tr>\n",
       "  </thead>\n",
       "  <tbody>\n",
       "    <tr>\n",
       "      <th>0</th>\n",
       "      <td> 0.142334</td>\n",
       "      <td> 0.514869</td>\n",
       "      <td> 0.450492</td>\n",
       "      <td> 0.141581</td>\n",
       "      <td> 0.069112</td>\n",
       "      <td> 0.030779</td>\n",
       "      <td> 0.697092</td>\n",
       "    </tr>\n",
       "    <tr>\n",
       "      <th>1</th>\n",
       "      <td> 0.452571</td>\n",
       "      <td> 0.556067</td>\n",
       "      <td> 0.627706</td>\n",
       "      <td> 0.204742</td>\n",
       "      <td> 0.063481</td>\n",
       "      <td> 0.020195</td>\n",
       "      <td> 0.213535</td>\n",
       "    </tr>\n",
       "    <tr>\n",
       "      <th>2</th>\n",
       "      <td> 0.300322</td>\n",
       "      <td> 0.682356</td>\n",
       "      <td> 0.264647</td>\n",
       "      <td> 0.111745</td>\n",
       "      <td> 0.062606</td>\n",
       "      <td> 0.020744</td>\n",
       "      <td> 0.597765</td>\n",
       "    </tr>\n",
       "    <tr>\n",
       "      <th>3</th>\n",
       "      <td> 0.442728</td>\n",
       "      <td> 0.608230</td>\n",
       "      <td> 0.211010</td>\n",
       "      <td> 0.216307</td>\n",
       "      <td> 0.082947</td>\n",
       "      <td> 0.043013</td>\n",
       "      <td> 0.577931</td>\n",
       "    </tr>\n",
       "    <tr>\n",
       "      <th>4</th>\n",
       "      <td> 0.551587</td>\n",
       "      <td> 0.447202</td>\n",
       "      <td> 0.276538</td>\n",
       "      <td> 0.131209</td>\n",
       "      <td> 0.071156</td>\n",
       "      <td> 0.030232</td>\n",
       "      <td> 0.629361</td>\n",
       "    </tr>\n",
       "  </tbody>\n",
       "</table>\n",
       "</div>"
      ],
      "text/plain": [
       "          0         1         2         3         4         5         6\n",
       "0  0.142334  0.514869  0.450492  0.141581  0.069112  0.030779  0.697092\n",
       "1  0.452571  0.556067  0.627706  0.204742  0.063481  0.020195  0.213535\n",
       "2  0.300322  0.682356  0.264647  0.111745  0.062606  0.020744  0.597765\n",
       "3  0.442728  0.608230  0.211010  0.216307  0.082947  0.043013  0.577931\n",
       "4  0.551587  0.447202  0.276538  0.131209  0.071156  0.030232  0.629361"
      ]
     },
     "execution_count": 14,
     "metadata": {},
     "output_type": "execute_result"
    }
   ],
   "source": [
    "pd.DataFrame(Xn).head()"
   ]
  },
  {
   "cell_type": "code",
   "execution_count": 15,
   "metadata": {
    "collapsed": false
   },
   "outputs": [
    {
     "data": {
      "text/html": [
       "<div style=\"max-height:1000px;max-width:1500px;overflow:auto;\">\n",
       "<table border=\"1\" class=\"dataframe\">\n",
       "  <thead>\n",
       "    <tr style=\"text-align: right;\">\n",
       "      <th></th>\n",
       "      <th>0</th>\n",
       "      <th>1</th>\n",
       "      <th>2</th>\n",
       "      <th>3</th>\n",
       "      <th>4</th>\n",
       "      <th>5</th>\n",
       "      <th>6</th>\n",
       "    </tr>\n",
       "  </thead>\n",
       "  <tbody>\n",
       "    <tr>\n",
       "      <th>0</th>\n",
       "      <td> 0.185041</td>\n",
       "      <td> 0.876721</td>\n",
       "      <td> 0.225623</td>\n",
       "      <td> 0.152565</td>\n",
       "      <td> 0.061840</td>\n",
       "      <td> 0.016105</td>\n",
       "      <td> 0.344752</td>\n",
       "    </tr>\n",
       "    <tr>\n",
       "      <th>1</th>\n",
       "      <td> 0.474086</td>\n",
       "      <td> 0.627742</td>\n",
       "      <td> 0.489252</td>\n",
       "      <td> 0.249920</td>\n",
       "      <td> 0.094671</td>\n",
       "      <td> 0.019477</td>\n",
       "      <td> 0.264599</td>\n",
       "    </tr>\n",
       "    <tr>\n",
       "      <th>2</th>\n",
       "      <td> 0.495097</td>\n",
       "      <td> 0.571860</td>\n",
       "      <td> 0.504435</td>\n",
       "      <td> 0.194126</td>\n",
       "      <td> 0.150688</td>\n",
       "      <td> 0.024138</td>\n",
       "      <td> 0.335301</td>\n",
       "    </tr>\n",
       "    <tr>\n",
       "      <th>3</th>\n",
       "      <td> 0.070637</td>\n",
       "      <td> 0.092927</td>\n",
       "      <td> 0.173352</td>\n",
       "      <td> 0.045816</td>\n",
       "      <td> 0.025458</td>\n",
       "      <td> 0.013203</td>\n",
       "      <td> 0.976423</td>\n",
       "    </tr>\n",
       "    <tr>\n",
       "      <th>4</th>\n",
       "      <td> 0.561562</td>\n",
       "      <td> 0.452881</td>\n",
       "      <td> 0.266414</td>\n",
       "      <td> 0.154886</td>\n",
       "      <td> 0.162207</td>\n",
       "      <td> 0.045109</td>\n",
       "      <td> 0.596855</td>\n",
       "    </tr>\n",
       "  </tbody>\n",
       "</table>\n",
       "</div>"
      ],
      "text/plain": [
       "          0         1         2         3         4         5         6\n",
       "0  0.185041  0.876721  0.225623  0.152565  0.061840  0.016105  0.344752\n",
       "1  0.474086  0.627742  0.489252  0.249920  0.094671  0.019477  0.264599\n",
       "2  0.495097  0.571860  0.504435  0.194126  0.150688  0.024138  0.335301\n",
       "3  0.070637  0.092927  0.173352  0.045816  0.025458  0.013203  0.976423\n",
       "4  0.561562  0.452881  0.266414  0.154886  0.162207  0.045109  0.596855"
      ]
     },
     "execution_count": 15,
     "metadata": {},
     "output_type": "execute_result"
    }
   ],
   "source": [
    "pd.DataFrame(Xtn).head()"
   ]
  },
  {
   "cell_type": "markdown",
   "metadata": {},
   "source": [
    "# 3. Train clf"
   ]
  },
  {
   "cell_type": "code",
   "execution_count": 16,
   "metadata": {
    "collapsed": false
   },
   "outputs": [
    {
     "name": "stdout",
     "output_type": "stream",
     "text": [
      "[ 0.86538462  0.87111111  0.87537092]\n",
      "CV score: 0.8706 +/- 0.0029\n"
     ]
    }
   ],
   "source": [
    "gb = AdaBoostClassifier()\n",
    "eval_clf(gb,Xn,y)"
   ]
  },
  {
   "cell_type": "code",
   "execution_count": 17,
   "metadata": {
    "collapsed": false
   },
   "outputs": [],
   "source": [
    "from sklearn.preprocessing import PolynomialFeatures"
   ]
  },
  {
   "cell_type": "code",
   "execution_count": 19,
   "metadata": {
    "collapsed": false
   },
   "outputs": [],
   "source": [
    "poly = PolynomialFeatures(2)"
   ]
  },
  {
   "cell_type": "code",
   "execution_count": 23,
   "metadata": {
    "collapsed": false
   },
   "outputs": [
    {
     "data": {
      "text/plain": [
       "(2025, 7)"
      ]
     },
     "execution_count": 23,
     "metadata": {},
     "output_type": "execute_result"
    }
   ],
   "source": [
    "Xn.shape"
   ]
  },
  {
   "cell_type": "code",
   "execution_count": 26,
   "metadata": {
    "collapsed": false
   },
   "outputs": [
    {
     "data": {
      "text/html": [
       "<div style=\"max-height:1000px;max-width:1500px;overflow:auto;\">\n",
       "<table border=\"1\" class=\"dataframe\">\n",
       "  <thead>\n",
       "    <tr style=\"text-align: right;\">\n",
       "      <th></th>\n",
       "      <th>0</th>\n",
       "      <th>1</th>\n",
       "      <th>2</th>\n",
       "      <th>3</th>\n",
       "      <th>4</th>\n",
       "      <th>5</th>\n",
       "      <th>6</th>\n",
       "    </tr>\n",
       "  </thead>\n",
       "  <tbody>\n",
       "    <tr>\n",
       "      <th>0</th>\n",
       "      <td> 0.142334</td>\n",
       "      <td> 0.514869</td>\n",
       "      <td> 0.450492</td>\n",
       "      <td> 0.141581</td>\n",
       "      <td> 0.069112</td>\n",
       "      <td> 0.030779</td>\n",
       "      <td> 0.697092</td>\n",
       "    </tr>\n",
       "    <tr>\n",
       "      <th>1</th>\n",
       "      <td> 0.452571</td>\n",
       "      <td> 0.556067</td>\n",
       "      <td> 0.627706</td>\n",
       "      <td> 0.204742</td>\n",
       "      <td> 0.063481</td>\n",
       "      <td> 0.020195</td>\n",
       "      <td> 0.213535</td>\n",
       "    </tr>\n",
       "    <tr>\n",
       "      <th>2</th>\n",
       "      <td> 0.300322</td>\n",
       "      <td> 0.682356</td>\n",
       "      <td> 0.264647</td>\n",
       "      <td> 0.111745</td>\n",
       "      <td> 0.062606</td>\n",
       "      <td> 0.020744</td>\n",
       "      <td> 0.597765</td>\n",
       "    </tr>\n",
       "    <tr>\n",
       "      <th>3</th>\n",
       "      <td> 0.442728</td>\n",
       "      <td> 0.608230</td>\n",
       "      <td> 0.211010</td>\n",
       "      <td> 0.216307</td>\n",
       "      <td> 0.082947</td>\n",
       "      <td> 0.043013</td>\n",
       "      <td> 0.577931</td>\n",
       "    </tr>\n",
       "    <tr>\n",
       "      <th>4</th>\n",
       "      <td> 0.551587</td>\n",
       "      <td> 0.447202</td>\n",
       "      <td> 0.276538</td>\n",
       "      <td> 0.131209</td>\n",
       "      <td> 0.071156</td>\n",
       "      <td> 0.030232</td>\n",
       "      <td> 0.629361</td>\n",
       "    </tr>\n",
       "  </tbody>\n",
       "</table>\n",
       "</div>"
      ],
      "text/plain": [
       "          0         1         2         3         4         5         6\n",
       "0  0.142334  0.514869  0.450492  0.141581  0.069112  0.030779  0.697092\n",
       "1  0.452571  0.556067  0.627706  0.204742  0.063481  0.020195  0.213535\n",
       "2  0.300322  0.682356  0.264647  0.111745  0.062606  0.020744  0.597765\n",
       "3  0.442728  0.608230  0.211010  0.216307  0.082947  0.043013  0.577931\n",
       "4  0.551587  0.447202  0.276538  0.131209  0.071156  0.030232  0.629361"
      ]
     },
     "execution_count": 26,
     "metadata": {},
     "output_type": "execute_result"
    }
   ],
   "source": [
    "pd.DataFrame(Xn).head()"
   ]
  },
  {
   "cell_type": "code",
   "execution_count": 18,
   "metadata": {
    "collapsed": false
   },
   "outputs": [
    {
     "name": "stdout",
     "output_type": "stream",
     "text": [
      "[ 0.89201183  0.89925926  0.91097923]\n",
      "CV score: 0.9008 +/- 0.0055\n"
     ]
    }
   ],
   "source": [
    "svm = SVC(kernel = 'rbf', gamma = 1, C=10)\n",
    "eval_clf(svm,Xn,y)"
   ]
  },
  {
   "cell_type": "code",
   "execution_count": 20,
   "metadata": {
    "collapsed": true
   },
   "outputs": [],
   "source": [
    "Xn2 = poly.fit_transform(Xn)"
   ]
  },
  {
   "cell_type": "code",
   "execution_count": 21,
   "metadata": {
    "collapsed": false
   },
   "outputs": [
    {
     "data": {
      "text/plain": [
       "(2025, 36)"
      ]
     },
     "execution_count": 21,
     "metadata": {},
     "output_type": "execute_result"
    }
   ],
   "source": [
    "Xn2.shape"
   ]
  },
  {
   "cell_type": "code",
   "execution_count": 27,
   "metadata": {
    "collapsed": false,
    "scrolled": false
   },
   "outputs": [
    {
     "data": {
      "text/html": [
       "<div style=\"max-height:1000px;max-width:1500px;overflow:auto;\">\n",
       "<table border=\"1\" class=\"dataframe\">\n",
       "  <thead>\n",
       "    <tr style=\"text-align: right;\">\n",
       "      <th></th>\n",
       "      <th>0</th>\n",
       "      <th>1</th>\n",
       "      <th>2</th>\n",
       "      <th>3</th>\n",
       "      <th>4</th>\n",
       "      <th>5</th>\n",
       "      <th>6</th>\n",
       "      <th>7</th>\n",
       "      <th>8</th>\n",
       "      <th>9</th>\n",
       "      <th>...</th>\n",
       "      <th>26</th>\n",
       "      <th>27</th>\n",
       "      <th>28</th>\n",
       "      <th>29</th>\n",
       "      <th>30</th>\n",
       "      <th>31</th>\n",
       "      <th>32</th>\n",
       "      <th>33</th>\n",
       "      <th>34</th>\n",
       "      <th>35</th>\n",
       "    </tr>\n",
       "  </thead>\n",
       "  <tbody>\n",
       "    <tr>\n",
       "      <th>0</th>\n",
       "      <td> 1</td>\n",
       "      <td> 0.142334</td>\n",
       "      <td> 0.514869</td>\n",
       "      <td> 0.450492</td>\n",
       "      <td> 0.141581</td>\n",
       "      <td> 0.069112</td>\n",
       "      <td> 0.030779</td>\n",
       "      <td> 0.697092</td>\n",
       "      <td> 0.020259</td>\n",
       "      <td> 0.073284</td>\n",
       "      <td>...</td>\n",
       "      <td> 0.020045</td>\n",
       "      <td> 0.009785</td>\n",
       "      <td> 0.004358</td>\n",
       "      <td> 0.098695</td>\n",
       "      <td> 0.004776</td>\n",
       "      <td> 0.002127</td>\n",
       "      <td> 0.048177</td>\n",
       "      <td> 0.000947</td>\n",
       "      <td> 0.021456</td>\n",
       "      <td> 0.485938</td>\n",
       "    </tr>\n",
       "    <tr>\n",
       "      <th>1</th>\n",
       "      <td> 1</td>\n",
       "      <td> 0.452571</td>\n",
       "      <td> 0.556067</td>\n",
       "      <td> 0.627706</td>\n",
       "      <td> 0.204742</td>\n",
       "      <td> 0.063481</td>\n",
       "      <td> 0.020195</td>\n",
       "      <td> 0.213535</td>\n",
       "      <td> 0.204820</td>\n",
       "      <td> 0.251660</td>\n",
       "      <td>...</td>\n",
       "      <td> 0.041919</td>\n",
       "      <td> 0.012997</td>\n",
       "      <td> 0.004135</td>\n",
       "      <td> 0.043720</td>\n",
       "      <td> 0.004030</td>\n",
       "      <td> 0.001282</td>\n",
       "      <td> 0.013556</td>\n",
       "      <td> 0.000408</td>\n",
       "      <td> 0.004312</td>\n",
       "      <td> 0.045597</td>\n",
       "    </tr>\n",
       "    <tr>\n",
       "      <th>2</th>\n",
       "      <td> 1</td>\n",
       "      <td> 0.300322</td>\n",
       "      <td> 0.682356</td>\n",
       "      <td> 0.264647</td>\n",
       "      <td> 0.111745</td>\n",
       "      <td> 0.062606</td>\n",
       "      <td> 0.020744</td>\n",
       "      <td> 0.597765</td>\n",
       "      <td> 0.090193</td>\n",
       "      <td> 0.204926</td>\n",
       "      <td>...</td>\n",
       "      <td> 0.012487</td>\n",
       "      <td> 0.006996</td>\n",
       "      <td> 0.002318</td>\n",
       "      <td> 0.066797</td>\n",
       "      <td> 0.003920</td>\n",
       "      <td> 0.001299</td>\n",
       "      <td> 0.037424</td>\n",
       "      <td> 0.000430</td>\n",
       "      <td> 0.012400</td>\n",
       "      <td> 0.357323</td>\n",
       "    </tr>\n",
       "    <tr>\n",
       "      <th>3</th>\n",
       "      <td> 1</td>\n",
       "      <td> 0.442728</td>\n",
       "      <td> 0.608230</td>\n",
       "      <td> 0.211010</td>\n",
       "      <td> 0.216307</td>\n",
       "      <td> 0.082947</td>\n",
       "      <td> 0.043013</td>\n",
       "      <td> 0.577931</td>\n",
       "      <td> 0.196008</td>\n",
       "      <td> 0.269281</td>\n",
       "      <td>...</td>\n",
       "      <td> 0.046789</td>\n",
       "      <td> 0.017942</td>\n",
       "      <td> 0.009304</td>\n",
       "      <td> 0.125011</td>\n",
       "      <td> 0.006880</td>\n",
       "      <td> 0.003568</td>\n",
       "      <td> 0.047938</td>\n",
       "      <td> 0.001850</td>\n",
       "      <td> 0.024859</td>\n",
       "      <td> 0.334004</td>\n",
       "    </tr>\n",
       "    <tr>\n",
       "      <th>4</th>\n",
       "      <td> 1</td>\n",
       "      <td> 0.551587</td>\n",
       "      <td> 0.447202</td>\n",
       "      <td> 0.276538</td>\n",
       "      <td> 0.131209</td>\n",
       "      <td> 0.071156</td>\n",
       "      <td> 0.030232</td>\n",
       "      <td> 0.629361</td>\n",
       "      <td> 0.304249</td>\n",
       "      <td> 0.246671</td>\n",
       "      <td>...</td>\n",
       "      <td> 0.017216</td>\n",
       "      <td> 0.009336</td>\n",
       "      <td> 0.003967</td>\n",
       "      <td> 0.082578</td>\n",
       "      <td> 0.005063</td>\n",
       "      <td> 0.002151</td>\n",
       "      <td> 0.044783</td>\n",
       "      <td> 0.000914</td>\n",
       "      <td> 0.019027</td>\n",
       "      <td> 0.396095</td>\n",
       "    </tr>\n",
       "  </tbody>\n",
       "</table>\n",
       "<p>5 rows × 36 columns</p>\n",
       "</div>"
      ],
      "text/plain": [
       "   0         1         2         3         4         5         6         7   \\\n",
       "0   1  0.142334  0.514869  0.450492  0.141581  0.069112  0.030779  0.697092   \n",
       "1   1  0.452571  0.556067  0.627706  0.204742  0.063481  0.020195  0.213535   \n",
       "2   1  0.300322  0.682356  0.264647  0.111745  0.062606  0.020744  0.597765   \n",
       "3   1  0.442728  0.608230  0.211010  0.216307  0.082947  0.043013  0.577931   \n",
       "4   1  0.551587  0.447202  0.276538  0.131209  0.071156  0.030232  0.629361   \n",
       "\n",
       "         8         9     ...           26        27        28        29  \\\n",
       "0  0.020259  0.073284    ...     0.020045  0.009785  0.004358  0.098695   \n",
       "1  0.204820  0.251660    ...     0.041919  0.012997  0.004135  0.043720   \n",
       "2  0.090193  0.204926    ...     0.012487  0.006996  0.002318  0.066797   \n",
       "3  0.196008  0.269281    ...     0.046789  0.017942  0.009304  0.125011   \n",
       "4  0.304249  0.246671    ...     0.017216  0.009336  0.003967  0.082578   \n",
       "\n",
       "         30        31        32        33        34        35  \n",
       "0  0.004776  0.002127  0.048177  0.000947  0.021456  0.485938  \n",
       "1  0.004030  0.001282  0.013556  0.000408  0.004312  0.045597  \n",
       "2  0.003920  0.001299  0.037424  0.000430  0.012400  0.357323  \n",
       "3  0.006880  0.003568  0.047938  0.001850  0.024859  0.334004  \n",
       "4  0.005063  0.002151  0.044783  0.000914  0.019027  0.396095  \n",
       "\n",
       "[5 rows x 36 columns]"
      ]
     },
     "execution_count": 27,
     "metadata": {},
     "output_type": "execute_result"
    }
   ],
   "source": [
    "pd.DataFrame(Xn2).head()"
   ]
  },
  {
   "cell_type": "code",
   "execution_count": 38,
   "metadata": {
    "collapsed": false,
    "scrolled": true
   },
   "outputs": [
    {
     "name": "stdout",
     "output_type": "stream",
     "text": [
      "[ 0.89349112  0.90074074  0.90949555]\n",
      "CV score: 0.9012 +/- 0.0046\n"
     ]
    }
   ],
   "source": [
    "svm = SVC(kernel = 'rbf', gamma = 1, C=10)\n",
    "eval_clf(svm,Xn2,y)"
   ]
  },
  {
   "cell_type": "code",
   "execution_count": 43,
   "metadata": {
    "collapsed": true
   },
   "outputs": [],
   "source": [
    "from sklearn.ensemble import RandomForestClassifier\n",
    "rf = RandomForestClassifier()"
   ]
  },
  {
   "cell_type": "code",
   "execution_count": 44,
   "metadata": {
    "collapsed": false
   },
   "outputs": [
    {
     "name": "stdout",
     "output_type": "stream",
     "text": [
      "[ 0.87869822  0.89777778  0.91543027]\n",
      "CV score: 0.8973 +/- 0.0106\n"
     ]
    }
   ],
   "source": [
    "eval_clf(rf,Xn2,y)"
   ]
  },
  {
   "cell_type": "code",
   "execution_count": 52,
   "metadata": {
    "collapsed": false
   },
   "outputs": [],
   "source": [
    "from sklearn.lda import LDA\n",
    "from sklearn.qda import QDA\n",
    "qda = QDA()\n",
    "lda = LDA()"
   ]
  },
  {
   "cell_type": "code",
   "execution_count": 46,
   "metadata": {
    "collapsed": true
   },
   "outputs": [],
   "source": [
    "Xlda = lda.fit_transform(Xn,y)"
   ]
  },
  {
   "cell_type": "code",
   "execution_count": 56,
   "metadata": {
    "collapsed": false
   },
   "outputs": [
    {
     "data": {
      "text/plain": [
       "(2025, 2)"
      ]
     },
     "execution_count": 56,
     "metadata": {},
     "output_type": "execute_result"
    }
   ],
   "source": [
    "Xlda.shape"
   ]
  },
  {
   "cell_type": "code",
   "execution_count": 59,
   "metadata": {
    "collapsed": false
   },
   "outputs": [],
   "source": [
    "Xlad2 = np.concatenate((Xn, Xlda),axis=1)"
   ]
  },
  {
   "cell_type": "code",
   "execution_count": 60,
   "metadata": {
    "collapsed": false
   },
   "outputs": [
    {
     "data": {
      "text/plain": [
       "(2025, 9)"
      ]
     },
     "execution_count": 60,
     "metadata": {},
     "output_type": "execute_result"
    }
   ],
   "source": [
    "Xlad2.shape"
   ]
  },
  {
   "cell_type": "code",
   "execution_count": 62,
   "metadata": {
    "collapsed": false
   },
   "outputs": [
    {
     "name": "stdout",
     "output_type": "stream",
     "text": [
      "[ 0.88905325  0.90962963  0.90207715]\n",
      "CV score: 0.9003 +/- 0.0060\n"
     ]
    }
   ],
   "source": [
    "eval_clf(rf, Xlad2, y)"
   ]
  },
  {
   "cell_type": "code",
   "execution_count": 74,
   "metadata": {
    "collapsed": false
   },
   "outputs": [
    {
     "name": "stdout",
     "output_type": "stream",
     "text": [
      "[ 0.89349112  0.90814815  0.91691395]\n",
      "CV score: 0.9062 +/- 0.0068\n"
     ]
    }
   ],
   "source": [
    "boostRF = AdaBoostClassifier(base_estimator=RandomForestClassifier(n_estimators=100),n_estimators=10,learning_rate=0.3)\n",
    "eval_clf(boostRF,Xlad2,y)"
   ]
  },
  {
   "cell_type": "code",
   "execution_count": 75,
   "metadata": {
    "collapsed": false
   },
   "outputs": [],
   "source": [
    "from sklearn.decomposition import PCA\n",
    "pca = PCA(n_components=4)\n",
    "Xpca = pca.fit_transform(Xn)"
   ]
  },
  {
   "cell_type": "code",
   "execution_count": 76,
   "metadata": {
    "collapsed": false
   },
   "outputs": [
    {
     "data": {
      "text/plain": [
       "(2025, 4)"
      ]
     },
     "execution_count": 76,
     "metadata": {},
     "output_type": "execute_result"
    }
   ],
   "source": [
    "Xpca.shape"
   ]
  },
  {
   "cell_type": "code",
   "execution_count": 80,
   "metadata": {
    "collapsed": false
   },
   "outputs": [
    {
     "name": "stdout",
     "output_type": "stream",
     "text": [
      "[ 0.88905325  0.88592593  0.89614243]\n",
      "CV score: 0.8904 +/- 0.0030\n"
     ]
    }
   ],
   "source": [
    "eval_clf(boostRF,Xpca,y)"
   ]
  },
  {
   "cell_type": "code",
   "execution_count": 55,
   "metadata": {
    "collapsed": false,
    "scrolled": true
   },
   "outputs": [
    {
     "name": "stdout",
     "output_type": "stream",
     "text": [
      "[ 0.88609467  0.88888889  0.90356083]\n",
      "CV score: 0.8928 +/- 0.0054\n"
     ]
    }
   ],
   "source": [
    "eval_clf(qda,Xn2,y)"
   ]
  },
  {
   "cell_type": "code",
   "execution_count": 81,
   "metadata": {
    "collapsed": false
   },
   "outputs": [
    {
     "name": "stdout",
     "output_type": "stream",
     "text": [
      "[ 0.88609467  0.89777778  0.91097923]\n",
      "CV score: 0.8983 +/- 0.0072\n"
     ]
    }
   ],
   "source": [
    "eval_clf(lda, Xlda, y)"
   ]
  },
  {
   "cell_type": "code",
   "execution_count": 91,
   "metadata": {
    "collapsed": false
   },
   "outputs": [
    {
     "name": "stdout",
     "output_type": "stream",
     "text": [
      "[ 0.8964497   0.90074074  0.90801187]\n",
      "CV score: 0.9017 +/- 0.0034\n"
     ]
    }
   ],
   "source": [
    "eval_clf(svm, np.concatenate((Xpca, Xlda),axis=1), y)"
   ]
  },
  {
   "cell_type": "markdown",
   "metadata": {},
   "source": [
    "Using custom kernel: the Laplace kernel."
   ]
  },
  {
   "cell_type": "code",
   "execution_count": 81,
   "metadata": {
    "collapsed": false
   },
   "outputs": [],
   "source": [
    "def laplace_ker(X, Y):\n",
    "    # X.shape = n1*d, Y.shape = n2*d\n",
    "    # return shape = n1*n2\n",
    "    gamma = 1.0\n",
    "    norm = [ [np.linalg.norm(X[i,:]-Y[j,:]) for j in xrange(Y.shape[0])] for i in xrange(X.shape[0]) ]\n",
    "    norm = np.array(norm)\n",
    "    return np.exp( -gamma*norm )"
   ]
  },
  {
   "cell_type": "code",
   "execution_count": 86,
   "metadata": {
    "collapsed": false
   },
   "outputs": [],
   "source": [
    "ll = laplace_ker(Xn[:80],Xn[:80,:])"
   ]
  },
  {
   "cell_type": "code",
   "execution_count": 87,
   "metadata": {
    "collapsed": false
   },
   "outputs": [
    {
     "data": {
      "text/plain": [
       "(80, 80)"
      ]
     },
     "execution_count": 87,
     "metadata": {},
     "output_type": "execute_result"
    }
   ],
   "source": [
    "ll.shape"
   ]
  },
  {
   "cell_type": "code",
   "execution_count": 119,
   "metadata": {
    "collapsed": true
   },
   "outputs": [
    {
     "ename": "ValueError",
     "evalue": "X should be a square kernel matrix",
     "output_type": "error",
     "traceback": [
      "\u001b[0;31m---------------------------------------------------------------------------\u001b[0m\n\u001b[0;31mValueError\u001b[0m                                Traceback (most recent call last)",
      "\u001b[0;32m<ipython-input-119-12c8db283f15>\u001b[0m in \u001b[0;36m<module>\u001b[0;34m()\u001b[0m\n\u001b[1;32m      1\u001b[0m \u001b[0msvm\u001b[0m \u001b[0;34m=\u001b[0m \u001b[0mSVC\u001b[0m\u001b[0;34m(\u001b[0m\u001b[0mkernel\u001b[0m \u001b[0;34m=\u001b[0m \u001b[0mlaplace_ker\u001b[0m\u001b[0;34m,\u001b[0m \u001b[0mC\u001b[0m\u001b[0;34m=\u001b[0m\u001b[0;36m10\u001b[0m\u001b[0;34m)\u001b[0m\u001b[0;34m\u001b[0m\u001b[0m\n\u001b[0;32m----> 2\u001b[0;31m \u001b[0meval_clf\u001b[0m\u001b[0;34m(\u001b[0m\u001b[0msvm\u001b[0m\u001b[0;34m,\u001b[0m\u001b[0mXn\u001b[0m\u001b[0;34m,\u001b[0m\u001b[0my\u001b[0m\u001b[0;34m)\u001b[0m\u001b[0;34m\u001b[0m\u001b[0m\n\u001b[0m",
      "\u001b[0;32m<ipython-input-37-f82be960cd36>\u001b[0m in \u001b[0;36meval_clf\u001b[0;34m(clf, X, y, K)\u001b[0m\n\u001b[1;32m      1\u001b[0m \u001b[0;32mdef\u001b[0m \u001b[0meval_clf\u001b[0m\u001b[0;34m(\u001b[0m\u001b[0mclf\u001b[0m\u001b[0;34m,\u001b[0m \u001b[0mX\u001b[0m\u001b[0;34m,\u001b[0m \u001b[0my\u001b[0m\u001b[0;34m,\u001b[0m \u001b[0mK\u001b[0m\u001b[0;34m=\u001b[0m\u001b[0;36m3\u001b[0m\u001b[0;34m)\u001b[0m\u001b[0;34m:\u001b[0m\u001b[0;34m\u001b[0m\u001b[0m\n\u001b[1;32m      2\u001b[0m     \u001b[0mret\u001b[0m \u001b[0;34m=\u001b[0m \u001b[0;34m{\u001b[0m\u001b[0;34m}\u001b[0m\u001b[0;34m\u001b[0m\u001b[0m\n\u001b[0;32m----> 3\u001b[0;31m     \u001b[0mscores\u001b[0m \u001b[0;34m=\u001b[0m \u001b[0mcross_val_score\u001b[0m\u001b[0;34m(\u001b[0m\u001b[0mclf\u001b[0m\u001b[0;34m,\u001b[0m \u001b[0mX\u001b[0m\u001b[0;34m,\u001b[0m \u001b[0my\u001b[0m\u001b[0;34m,\u001b[0m \u001b[0mcv\u001b[0m \u001b[0;34m=\u001b[0m \u001b[0;36m3\u001b[0m\u001b[0;34m)\u001b[0m\u001b[0;34m\u001b[0m\u001b[0m\n\u001b[0m\u001b[1;32m      4\u001b[0m     \u001b[0;32mprint\u001b[0m \u001b[0mscores\u001b[0m\u001b[0;34m\u001b[0m\u001b[0m\n\u001b[1;32m      5\u001b[0m     \u001b[0;32mprint\u001b[0m \u001b[0;34m\"CV score: %.4f +/- %.4f\"\u001b[0m \u001b[0;34m%\u001b[0m \u001b[0;34m(\u001b[0m\u001b[0mnp\u001b[0m\u001b[0;34m.\u001b[0m\u001b[0mmean\u001b[0m\u001b[0;34m(\u001b[0m\u001b[0mscores\u001b[0m\u001b[0;34m)\u001b[0m\u001b[0;34m,\u001b[0m \u001b[0msem\u001b[0m\u001b[0;34m(\u001b[0m\u001b[0mscores\u001b[0m\u001b[0;34m)\u001b[0m\u001b[0;34m)\u001b[0m\u001b[0;34m\u001b[0m\u001b[0m\n",
      "\u001b[0;32m/usr/lib/python2.7/dist-packages/sklearn/cross_validation.pyc\u001b[0m in \u001b[0;36mcross_val_score\u001b[0;34m(estimator, X, y, scoring, cv, n_jobs, verbose, fit_params, score_func, pre_dispatch)\u001b[0m\n\u001b[1;32m   1150\u001b[0m         delayed(_cross_val_score)(clone(estimator), X, y, scorer, train, test,\n\u001b[1;32m   1151\u001b[0m                                   verbose, fit_params)\n\u001b[0;32m-> 1152\u001b[0;31m         for train, test in cv)\n\u001b[0m\u001b[1;32m   1153\u001b[0m     \u001b[0;32mreturn\u001b[0m \u001b[0mnp\u001b[0m\u001b[0;34m.\u001b[0m\u001b[0marray\u001b[0m\u001b[0;34m(\u001b[0m\u001b[0mscores\u001b[0m\u001b[0;34m)\u001b[0m\u001b[0;34m\u001b[0m\u001b[0m\n\u001b[1;32m   1154\u001b[0m \u001b[0;34m\u001b[0m\u001b[0m\n",
      "\u001b[0;32m/usr/lib/pymodules/python2.7/joblib/parallel.pyc\u001b[0m in \u001b[0;36m__call__\u001b[0;34m(self, iterable)\u001b[0m\n\u001b[1;32m    515\u001b[0m         \u001b[0;32mtry\u001b[0m\u001b[0;34m:\u001b[0m\u001b[0;34m\u001b[0m\u001b[0m\n\u001b[1;32m    516\u001b[0m             \u001b[0;32mfor\u001b[0m \u001b[0mfunction\u001b[0m\u001b[0;34m,\u001b[0m \u001b[0margs\u001b[0m\u001b[0;34m,\u001b[0m \u001b[0mkwargs\u001b[0m \u001b[0;32min\u001b[0m \u001b[0miterable\u001b[0m\u001b[0;34m:\u001b[0m\u001b[0;34m\u001b[0m\u001b[0m\n\u001b[0;32m--> 517\u001b[0;31m                 \u001b[0mself\u001b[0m\u001b[0;34m.\u001b[0m\u001b[0mdispatch\u001b[0m\u001b[0;34m(\u001b[0m\u001b[0mfunction\u001b[0m\u001b[0;34m,\u001b[0m \u001b[0margs\u001b[0m\u001b[0;34m,\u001b[0m \u001b[0mkwargs\u001b[0m\u001b[0;34m)\u001b[0m\u001b[0;34m\u001b[0m\u001b[0m\n\u001b[0m\u001b[1;32m    518\u001b[0m \u001b[0;34m\u001b[0m\u001b[0m\n\u001b[1;32m    519\u001b[0m             \u001b[0mself\u001b[0m\u001b[0;34m.\u001b[0m\u001b[0mretrieve\u001b[0m\u001b[0;34m(\u001b[0m\u001b[0;34m)\u001b[0m\u001b[0;34m\u001b[0m\u001b[0m\n",
      "\u001b[0;32m/usr/lib/pymodules/python2.7/joblib/parallel.pyc\u001b[0m in \u001b[0;36mdispatch\u001b[0;34m(self, func, args, kwargs)\u001b[0m\n\u001b[1;32m    310\u001b[0m         \"\"\"\n\u001b[1;32m    311\u001b[0m         \u001b[0;32mif\u001b[0m \u001b[0mself\u001b[0m\u001b[0;34m.\u001b[0m\u001b[0m_pool\u001b[0m \u001b[0;32mis\u001b[0m \u001b[0mNone\u001b[0m\u001b[0;34m:\u001b[0m\u001b[0;34m\u001b[0m\u001b[0m\n\u001b[0;32m--> 312\u001b[0;31m             \u001b[0mjob\u001b[0m \u001b[0;34m=\u001b[0m \u001b[0mImmediateApply\u001b[0m\u001b[0;34m(\u001b[0m\u001b[0mfunc\u001b[0m\u001b[0;34m,\u001b[0m \u001b[0margs\u001b[0m\u001b[0;34m,\u001b[0m \u001b[0mkwargs\u001b[0m\u001b[0;34m)\u001b[0m\u001b[0;34m\u001b[0m\u001b[0m\n\u001b[0m\u001b[1;32m    313\u001b[0m             \u001b[0mindex\u001b[0m \u001b[0;34m=\u001b[0m \u001b[0mlen\u001b[0m\u001b[0;34m(\u001b[0m\u001b[0mself\u001b[0m\u001b[0;34m.\u001b[0m\u001b[0m_jobs\u001b[0m\u001b[0;34m)\u001b[0m\u001b[0;34m\u001b[0m\u001b[0m\n\u001b[1;32m    314\u001b[0m             \u001b[0;32mif\u001b[0m \u001b[0;32mnot\u001b[0m \u001b[0m_verbosity_filter\u001b[0m\u001b[0;34m(\u001b[0m\u001b[0mindex\u001b[0m\u001b[0;34m,\u001b[0m \u001b[0mself\u001b[0m\u001b[0;34m.\u001b[0m\u001b[0mverbose\u001b[0m\u001b[0;34m)\u001b[0m\u001b[0;34m:\u001b[0m\u001b[0;34m\u001b[0m\u001b[0m\n",
      "\u001b[0;32m/usr/lib/pymodules/python2.7/joblib/parallel.pyc\u001b[0m in \u001b[0;36m__init__\u001b[0;34m(self, func, args, kwargs)\u001b[0m\n\u001b[1;32m    134\u001b[0m         \u001b[0;31m# Don't delay the application, to avoid keeping the input\u001b[0m\u001b[0;34m\u001b[0m\u001b[0;34m\u001b[0m\u001b[0m\n\u001b[1;32m    135\u001b[0m         \u001b[0;31m# arguments in memory\u001b[0m\u001b[0;34m\u001b[0m\u001b[0;34m\u001b[0m\u001b[0m\n\u001b[0;32m--> 136\u001b[0;31m         \u001b[0mself\u001b[0m\u001b[0;34m.\u001b[0m\u001b[0mresults\u001b[0m \u001b[0;34m=\u001b[0m \u001b[0mfunc\u001b[0m\u001b[0;34m(\u001b[0m\u001b[0;34m*\u001b[0m\u001b[0margs\u001b[0m\u001b[0;34m,\u001b[0m \u001b[0;34m**\u001b[0m\u001b[0mkwargs\u001b[0m\u001b[0;34m)\u001b[0m\u001b[0;34m\u001b[0m\u001b[0m\n\u001b[0m\u001b[1;32m    137\u001b[0m \u001b[0;34m\u001b[0m\u001b[0m\n\u001b[1;32m    138\u001b[0m     \u001b[0;32mdef\u001b[0m \u001b[0mget\u001b[0m\u001b[0;34m(\u001b[0m\u001b[0mself\u001b[0m\u001b[0;34m)\u001b[0m\u001b[0;34m:\u001b[0m\u001b[0;34m\u001b[0m\u001b[0m\n",
      "\u001b[0;32m/usr/lib/python2.7/dist-packages/sklearn/cross_validation.pyc\u001b[0m in \u001b[0;36m_cross_val_score\u001b[0;34m(estimator, X, y, scorer, train, test, verbose, fit_params)\u001b[0m\n\u001b[1;32m   1045\u001b[0m             \u001b[0;31m# X is a precomputed square kernel matrix\u001b[0m\u001b[0;34m\u001b[0m\u001b[0;34m\u001b[0m\u001b[0m\n\u001b[1;32m   1046\u001b[0m             \u001b[0;32mif\u001b[0m \u001b[0mX\u001b[0m\u001b[0;34m.\u001b[0m\u001b[0mshape\u001b[0m\u001b[0;34m[\u001b[0m\u001b[0;36m0\u001b[0m\u001b[0;34m]\u001b[0m \u001b[0;34m!=\u001b[0m \u001b[0mX\u001b[0m\u001b[0;34m.\u001b[0m\u001b[0mshape\u001b[0m\u001b[0;34m[\u001b[0m\u001b[0;36m1\u001b[0m\u001b[0;34m]\u001b[0m\u001b[0;34m:\u001b[0m\u001b[0;34m\u001b[0m\u001b[0m\n\u001b[0;32m-> 1047\u001b[0;31m                 \u001b[0;32mraise\u001b[0m \u001b[0mValueError\u001b[0m\u001b[0;34m(\u001b[0m\u001b[0;34m\"X should be a square kernel matrix\"\u001b[0m\u001b[0;34m)\u001b[0m\u001b[0;34m\u001b[0m\u001b[0m\n\u001b[0m\u001b[1;32m   1048\u001b[0m             \u001b[0mX_train\u001b[0m \u001b[0;34m=\u001b[0m \u001b[0mX\u001b[0m\u001b[0;34m[\u001b[0m\u001b[0mnp\u001b[0m\u001b[0;34m.\u001b[0m\u001b[0mix_\u001b[0m\u001b[0;34m(\u001b[0m\u001b[0mtrain\u001b[0m\u001b[0;34m,\u001b[0m \u001b[0mtrain\u001b[0m\u001b[0;34m)\u001b[0m\u001b[0;34m]\u001b[0m\u001b[0;34m\u001b[0m\u001b[0m\n\u001b[1;32m   1049\u001b[0m             \u001b[0mX_test\u001b[0m \u001b[0;34m=\u001b[0m \u001b[0mX\u001b[0m\u001b[0;34m[\u001b[0m\u001b[0mnp\u001b[0m\u001b[0;34m.\u001b[0m\u001b[0mix_\u001b[0m\u001b[0;34m(\u001b[0m\u001b[0mtest\u001b[0m\u001b[0;34m,\u001b[0m \u001b[0mtrain\u001b[0m\u001b[0;34m)\u001b[0m\u001b[0;34m]\u001b[0m\u001b[0;34m\u001b[0m\u001b[0m\n",
      "\u001b[0;31mValueError\u001b[0m: X should be a square kernel matrix"
     ]
    }
   ],
   "source": [
    "svm = SVC(kernel = laplace_ker, C=10)\n",
    "eval_clf(svm,Xn,y)"
   ]
  },
  {
   "cell_type": "code",
   "execution_count": 120,
   "metadata": {
    "collapsed": false
   },
   "outputs": [
    {
     "data": {
      "text/plain": [
       "SVC(C=10, cache_size=200, class_weight=None, coef0=0.0, degree=3, gamma=0.0,\n",
       "  kernel=<function laplace_ker at 0x7f92b65e21b8>, max_iter=-1,\n",
       "  probability=False, random_state=None, shrinking=True, tol=0.001,\n",
       "  verbose=False)"
      ]
     },
     "execution_count": 120,
     "metadata": {},
     "output_type": "execute_result"
    }
   ],
   "source": [
    "svm.fit(Xn,y)"
   ]
  },
  {
   "cell_type": "markdown",
   "metadata": {},
   "source": [
    "# 4. Predict on test data"
   ]
  },
  {
   "cell_type": "code",
   "execution_count": 121,
   "metadata": {
    "collapsed": false
   },
   "outputs": [],
   "source": [
    "yp = svm.predict(Xtn)"
   ]
  },
  {
   "cell_type": "code",
   "execution_count": 122,
   "metadata": {
    "collapsed": false
   },
   "outputs": [
    {
     "data": {
      "text/plain": [
       "((675,), (675, 7))"
      ]
     },
     "execution_count": 122,
     "metadata": {},
     "output_type": "execute_result"
    }
   ],
   "source": [
    "yp.shape, Xtest.shape"
   ]
  },
  {
   "cell_type": "code",
   "execution_count": 123,
   "metadata": {
    "collapsed": false
   },
   "outputs": [
    {
     "data": {
      "text/html": [
       "<div style=\"max-height:1000px;max-width:1500px;overflow:auto;\">\n",
       "<table border=\"1\" class=\"dataframe\">\n",
       "  <thead>\n",
       "    <tr style=\"text-align: right;\">\n",
       "      <th></th>\n",
       "      <th>Id</th>\n",
       "      <th>Label</th>\n",
       "    </tr>\n",
       "  </thead>\n",
       "  <tbody>\n",
       "    <tr>\n",
       "      <th>0</th>\n",
       "      <td> 2026</td>\n",
       "      <td> 2</td>\n",
       "    </tr>\n",
       "    <tr>\n",
       "      <th>1</th>\n",
       "      <td> 2027</td>\n",
       "      <td> 1</td>\n",
       "    </tr>\n",
       "    <tr>\n",
       "      <th>2</th>\n",
       "      <td> 2028</td>\n",
       "      <td> 1</td>\n",
       "    </tr>\n",
       "    <tr>\n",
       "      <th>3</th>\n",
       "      <td> 2029</td>\n",
       "      <td> 0</td>\n",
       "    </tr>\n",
       "    <tr>\n",
       "      <th>4</th>\n",
       "      <td> 2030</td>\n",
       "      <td> 0</td>\n",
       "    </tr>\n",
       "  </tbody>\n",
       "</table>\n",
       "</div>"
      ],
      "text/plain": [
       "     Id  Label\n",
       "0  2026      2\n",
       "1  2027      1\n",
       "2  2028      1\n",
       "3  2029      0\n",
       "4  2030      0"
      ]
     },
     "execution_count": 123,
     "metadata": {},
     "output_type": "execute_result"
    }
   ],
   "source": [
    "sub.Label = map(int, yp)\n",
    "sub.head()"
   ]
  },
  {
   "cell_type": "code",
   "execution_count": 124,
   "metadata": {
    "collapsed": false
   },
   "outputs": [],
   "source": [
    "sub.to_csv('sub-laplaceKer2.csv', index = False)"
   ]
  },
  {
   "cell_type": "code",
   "execution_count": null,
   "metadata": {
    "collapsed": false
   },
   "outputs": [],
   "source": []
  },
  {
   "cell_type": "code",
   "execution_count": null,
   "metadata": {
    "collapsed": false
   },
   "outputs": [],
   "source": []
  },
  {
   "cell_type": "code",
   "execution_count": null,
   "metadata": {
    "collapsed": false
   },
   "outputs": [],
   "source": []
  },
  {
   "cell_type": "code",
   "execution_count": null,
   "metadata": {
    "collapsed": false
   },
   "outputs": [],
   "source": []
  },
  {
   "cell_type": "code",
   "execution_count": 59,
   "metadata": {
    "collapsed": false
   },
   "outputs": [
    {
     "ename": "ImportError",
     "evalue": "cannot import name symbol_database",
     "output_type": "error",
     "traceback": [
      "\u001b[0;31m---------------------------------------------------------------------------\u001b[0m\n\u001b[0;31mImportError\u001b[0m                               Traceback (most recent call last)",
      "\u001b[0;32m<ipython-input-59-41389fad42b5>\u001b[0m in \u001b[0;36m<module>\u001b[0;34m()\u001b[0m\n\u001b[0;32m----> 1\u001b[0;31m \u001b[0;32mimport\u001b[0m \u001b[0mtensorflow\u001b[0m \u001b[0;32mas\u001b[0m \u001b[0mtf\u001b[0m\u001b[0;34m\u001b[0m\u001b[0m\n\u001b[0m",
      "\u001b[0;32m/usr/local/lib/python2.7/dist-packages/tensorflow/__init__.py\u001b[0m in \u001b[0;36m<module>\u001b[0;34m()\u001b[0m\n\u001b[1;32m      2\u001b[0m \u001b[0;31m# module.\u001b[0m\u001b[0;34m\u001b[0m\u001b[0;34m\u001b[0m\u001b[0m\n\u001b[1;32m      3\u001b[0m \u001b[0;31m# pylint: disable=wildcard-import\u001b[0m\u001b[0;34m\u001b[0m\u001b[0;34m\u001b[0m\u001b[0m\n\u001b[0;32m----> 4\u001b[0;31m \u001b[0;32mfrom\u001b[0m \u001b[0mtensorflow\u001b[0m\u001b[0;34m.\u001b[0m\u001b[0mpython\u001b[0m \u001b[0;32mimport\u001b[0m \u001b[0;34m*\u001b[0m\u001b[0;34m\u001b[0m\u001b[0m\n\u001b[0m",
      "\u001b[0;32m/usr/local/lib/python2.7/dist-packages/tensorflow/python/__init__.py\u001b[0m in \u001b[0;36m<module>\u001b[0;34m()\u001b[0m\n\u001b[1;32m     11\u001b[0m \u001b[0;34m\u001b[0m\u001b[0m\n\u001b[1;32m     12\u001b[0m \u001b[0;32mimport\u001b[0m \u001b[0mtensorflow\u001b[0m\u001b[0;34m.\u001b[0m\u001b[0mpython\u001b[0m\u001b[0;34m.\u001b[0m\u001b[0mplatform\u001b[0m\u001b[0;34m\u001b[0m\u001b[0m\n\u001b[0;32m---> 13\u001b[0;31m \u001b[0;32mfrom\u001b[0m \u001b[0mtensorflow\u001b[0m\u001b[0;34m.\u001b[0m\u001b[0mcore\u001b[0m\u001b[0;34m.\u001b[0m\u001b[0mframework\u001b[0m\u001b[0;34m.\u001b[0m\u001b[0mgraph_pb2\u001b[0m \u001b[0;32mimport\u001b[0m \u001b[0;34m*\u001b[0m\u001b[0;34m\u001b[0m\u001b[0m\n\u001b[0m\u001b[1;32m     14\u001b[0m \u001b[0;32mfrom\u001b[0m \u001b[0mtensorflow\u001b[0m\u001b[0;34m.\u001b[0m\u001b[0mcore\u001b[0m\u001b[0;34m.\u001b[0m\u001b[0mframework\u001b[0m\u001b[0;34m.\u001b[0m\u001b[0msummary_pb2\u001b[0m \u001b[0;32mimport\u001b[0m \u001b[0;34m*\u001b[0m\u001b[0;34m\u001b[0m\u001b[0m\n\u001b[1;32m     15\u001b[0m \u001b[0;32mfrom\u001b[0m \u001b[0mtensorflow\u001b[0m\u001b[0;34m.\u001b[0m\u001b[0mcore\u001b[0m\u001b[0;34m.\u001b[0m\u001b[0mframework\u001b[0m\u001b[0;34m.\u001b[0m\u001b[0mconfig_pb2\u001b[0m \u001b[0;32mimport\u001b[0m \u001b[0;34m*\u001b[0m\u001b[0;34m\u001b[0m\u001b[0m\n",
      "\u001b[0;32m/usr/local/lib/python2.7/dist-packages/tensorflow/core/framework/graph_pb2.py\u001b[0m in \u001b[0;36m<module>\u001b[0;34m()\u001b[0m\n\u001b[1;32m      7\u001b[0m \u001b[0;32mfrom\u001b[0m \u001b[0mgoogle\u001b[0m\u001b[0;34m.\u001b[0m\u001b[0mprotobuf\u001b[0m \u001b[0;32mimport\u001b[0m \u001b[0mmessage\u001b[0m \u001b[0;32mas\u001b[0m \u001b[0m_message\u001b[0m\u001b[0;34m\u001b[0m\u001b[0m\n\u001b[1;32m      8\u001b[0m \u001b[0;32mfrom\u001b[0m \u001b[0mgoogle\u001b[0m\u001b[0;34m.\u001b[0m\u001b[0mprotobuf\u001b[0m \u001b[0;32mimport\u001b[0m \u001b[0mreflection\u001b[0m \u001b[0;32mas\u001b[0m \u001b[0m_reflection\u001b[0m\u001b[0;34m\u001b[0m\u001b[0m\n\u001b[0;32m----> 9\u001b[0;31m \u001b[0;32mfrom\u001b[0m \u001b[0mgoogle\u001b[0m\u001b[0;34m.\u001b[0m\u001b[0mprotobuf\u001b[0m \u001b[0;32mimport\u001b[0m \u001b[0msymbol_database\u001b[0m \u001b[0;32mas\u001b[0m \u001b[0m_symbol_database\u001b[0m\u001b[0;34m\u001b[0m\u001b[0m\n\u001b[0m\u001b[1;32m     10\u001b[0m \u001b[0;32mfrom\u001b[0m \u001b[0mgoogle\u001b[0m\u001b[0;34m.\u001b[0m\u001b[0mprotobuf\u001b[0m \u001b[0;32mimport\u001b[0m \u001b[0mdescriptor_pb2\u001b[0m\u001b[0;34m\u001b[0m\u001b[0m\n\u001b[1;32m     11\u001b[0m \u001b[0;31m# @@protoc_insertion_point(imports)\u001b[0m\u001b[0;34m\u001b[0m\u001b[0;34m\u001b[0m\u001b[0m\n",
      "\u001b[0;31mImportError\u001b[0m: cannot import name symbol_database"
     ]
    }
   ],
   "source": [
    "import tensorflow as tf"
   ]
  }
 ],
 "metadata": {
  "kernelspec": {
   "display_name": "Python 2",
   "language": "python",
   "name": "python2"
  },
  "language_info": {
   "codemirror_mode": {
    "name": "ipython",
    "version": 2
   },
   "file_extension": ".py",
   "mimetype": "text/x-python",
   "name": "python",
   "nbconvert_exporter": "python",
   "pygments_lexer": "ipython2",
   "version": "2.7.6"
  }
 },
 "nbformat": 4,
 "nbformat_minor": 0
}
